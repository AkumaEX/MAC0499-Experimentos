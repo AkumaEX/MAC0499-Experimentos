{
 "cells": [
  {
   "cell_type": "markdown",
   "metadata": {},
   "source": [
    "# Aprendizado Supervisionado"
   ]
  },
  {
   "cell_type": "markdown",
   "metadata": {},
   "source": [
    "Importando dependências"
   ]
  },
  {
   "cell_type": "code",
   "execution_count": 2,
   "metadata": {},
   "outputs": [],
   "source": [
    "import pandas as pd\n",
    "import numpy as np\n",
    "import os\n",
    "import time\n",
    "from sklearn.preprocessing import OneHotEncoder\n",
    "from sklearn.compose import ColumnTransformer\n",
    "from sklearn.dummy import DummyRegressor\n",
    "from sklearn.dummy import DummyClassifier\n",
    "from sklearn.linear_model import LinearRegression\n",
    "from sklearn.linear_model import LogisticRegression\n",
    "from sklearn.ensemble import RandomForestRegressor\n",
    "from sklearn.ensemble import RandomForestClassifier\n",
    "from sklearn.neural_network import MLPRegressor\n",
    "from sklearn.neural_network import MLPClassifier\n",
    "from sklearn.metrics import f1_score, accuracy_score"
   ]
  },
  {
   "cell_type": "markdown",
   "metadata": {},
   "source": [
    "---\n",
    "## Funções auxiliares"
   ]
  },
  {
   "cell_type": "markdown",
   "metadata": {},
   "source": [
    "### Função para carregar os *DataFrames*\n",
    "Dado o ano, mês, número de meses anteriores e o número de agrupamentos, retorna uma tupla de dataframes de treino e teste"
   ]
  },
  {
   "cell_type": "code",
   "execution_count": 2,
   "metadata": {},
   "outputs": [],
   "source": [
    "def load_dataframe(year, month, n_months):\n",
    "    dirname = 'df_dynamic'\n",
    "    df_train = pd.read_pickle('{0}/{1}_{2}_{3}_train.pkl'.format(dirname, year, month, n_months))\n",
    "    df_test = pd.read_pickle('{0}/{1}_{2}_{3}_test.pkl'.format(dirname, year, month, n_months))\n",
    "    return df_train, df_test"
   ]
  },
  {
   "cell_type": "markdown",
   "metadata": {},
   "source": [
    "**Exemplo:** 3 meses anteriores a Fevereiro de 2019 com 2000 agrupamentos retorna uma tupla com:\n",
    "* *DataFrame* de treino com os dados dos meses de Novembro de 2018, Dezembro de 2018 e Janeiro de 2019\n",
    "* *DataFrame* de teste com os dados do mês de Fevereiro de 2019"
   ]
  },
  {
   "cell_type": "code",
   "execution_count": 3,
   "metadata": {},
   "outputs": [],
   "source": [
    "df_train, df_test = load_dataframe(2019, 2, 3)"
   ]
  },
  {
   "cell_type": "code",
   "execution_count": 4,
   "metadata": {},
   "outputs": [
    {
     "data": {
      "text/html": [
       "<div>\n",
       "<style scoped>\n",
       "    .dataframe tbody tr th:only-of-type {\n",
       "        vertical-align: middle;\n",
       "    }\n",
       "\n",
       "    .dataframe tbody tr th {\n",
       "        vertical-align: top;\n",
       "    }\n",
       "\n",
       "    .dataframe thead th {\n",
       "        text-align: right;\n",
       "    }\n",
       "</style>\n",
       "<table border=\"1\" class=\"dataframe\">\n",
       "  <thead>\n",
       "    <tr style=\"text-align: right;\">\n",
       "      <th></th>\n",
       "      <th>DATAOCORRENCIA</th>\n",
       "      <th>HORAOCORRENCIA</th>\n",
       "      <th>BAIRRO</th>\n",
       "      <th>CIDADE</th>\n",
       "      <th>LATITUDE</th>\n",
       "      <th>LONGITUDE</th>\n",
       "      <th>MES</th>\n",
       "      <th>GRUPO</th>\n",
       "    </tr>\n",
       "  </thead>\n",
       "  <tbody>\n",
       "    <tr>\n",
       "      <th>1</th>\n",
       "      <td>31/10/2018</td>\n",
       "      <td>21:30</td>\n",
       "      <td>JD IRMÃOS SIGRIST</td>\n",
       "      <td>CAMPINAS</td>\n",
       "      <td>-23.003776</td>\n",
       "      <td>-47.106153</td>\n",
       "      <td>1</td>\n",
       "      <td>628</td>\n",
       "    </tr>\n",
       "    <tr>\n",
       "      <th>4</th>\n",
       "      <td>31/10/2018</td>\n",
       "      <td>21:00</td>\n",
       "      <td>JD ARARUAMA</td>\n",
       "      <td>COTIA</td>\n",
       "      <td>-23.609402</td>\n",
       "      <td>-46.929926</td>\n",
       "      <td>1</td>\n",
       "      <td>911</td>\n",
       "    </tr>\n",
       "    <tr>\n",
       "      <th>5</th>\n",
       "      <td>31/10/2018</td>\n",
       "      <td>23:00</td>\n",
       "      <td>SAO LUCAS</td>\n",
       "      <td>S.PAULO</td>\n",
       "      <td>-23.576057</td>\n",
       "      <td>-46.554417</td>\n",
       "      <td>1</td>\n",
       "      <td>3639</td>\n",
       "    </tr>\n",
       "    <tr>\n",
       "      <th>6</th>\n",
       "      <td>31/10/2018</td>\n",
       "      <td>23:00</td>\n",
       "      <td>SAO RAFAEL</td>\n",
       "      <td>S.PAULO</td>\n",
       "      <td>-23.630611</td>\n",
       "      <td>-46.471524</td>\n",
       "      <td>1</td>\n",
       "      <td>4143</td>\n",
       "    </tr>\n",
       "    <tr>\n",
       "      <th>7</th>\n",
       "      <td>31/10/2018</td>\n",
       "      <td>23:40</td>\n",
       "      <td>BRASILANDIA</td>\n",
       "      <td>S.PAULO</td>\n",
       "      <td>-23.457706</td>\n",
       "      <td>-46.690668</td>\n",
       "      <td>1</td>\n",
       "      <td>3839</td>\n",
       "    </tr>\n",
       "    <tr>\n",
       "      <th>...</th>\n",
       "      <td>...</td>\n",
       "      <td>...</td>\n",
       "      <td>...</td>\n",
       "      <td>...</td>\n",
       "      <td>...</td>\n",
       "      <td>...</td>\n",
       "      <td>...</td>\n",
       "      <td>...</td>\n",
       "    </tr>\n",
       "    <tr>\n",
       "      <th>22556</th>\n",
       "      <td>31/01/2019</td>\n",
       "      <td>22:20</td>\n",
       "      <td>SAO MATEUS</td>\n",
       "      <td>S.PAULO</td>\n",
       "      <td>-23.614637</td>\n",
       "      <td>-46.470736</td>\n",
       "      <td>3</td>\n",
       "      <td>4014</td>\n",
       "    </tr>\n",
       "    <tr>\n",
       "      <th>22557</th>\n",
       "      <td>31/01/2019</td>\n",
       "      <td>22:00</td>\n",
       "      <td>ITAIM BIBI</td>\n",
       "      <td>S.PAULO</td>\n",
       "      <td>-23.586411</td>\n",
       "      <td>-46.676220</td>\n",
       "      <td>3</td>\n",
       "      <td>4370</td>\n",
       "    </tr>\n",
       "    <tr>\n",
       "      <th>22559</th>\n",
       "      <td>31/01/2019</td>\n",
       "      <td>20:05</td>\n",
       "      <td>CIDADE TIRADENTES</td>\n",
       "      <td>S.PAULO</td>\n",
       "      <td>-23.587221</td>\n",
       "      <td>-46.406488</td>\n",
       "      <td>3</td>\n",
       "      <td>3686</td>\n",
       "    </tr>\n",
       "    <tr>\n",
       "      <th>22560</th>\n",
       "      <td>31/01/2019</td>\n",
       "      <td>20:30</td>\n",
       "      <td>TREMEMBE</td>\n",
       "      <td>S.PAULO</td>\n",
       "      <td>-23.452332</td>\n",
       "      <td>-46.601216</td>\n",
       "      <td>3</td>\n",
       "      <td>4374</td>\n",
       "    </tr>\n",
       "    <tr>\n",
       "      <th>22561</th>\n",
       "      <td>31/01/2019</td>\n",
       "      <td>13:00</td>\n",
       "      <td>AREA RURAL</td>\n",
       "      <td>RIBEIRAO PRETO</td>\n",
       "      <td>-21.329122</td>\n",
       "      <td>-47.830969</td>\n",
       "      <td>3</td>\n",
       "      <td>2887</td>\n",
       "    </tr>\n",
       "  </tbody>\n",
       "</table>\n",
       "<p>42987 rows × 8 columns</p>\n",
       "</div>"
      ],
      "text/plain": [
       "      DATAOCORRENCIA HORAOCORRENCIA             BAIRRO          CIDADE  \\\n",
       "1         31/10/2018          21:30  JD IRMÃOS SIGRIST        CAMPINAS   \n",
       "4         31/10/2018          21:00        JD ARARUAMA           COTIA   \n",
       "5         31/10/2018          23:00          SAO LUCAS         S.PAULO   \n",
       "6         31/10/2018          23:00         SAO RAFAEL         S.PAULO   \n",
       "7         31/10/2018          23:40        BRASILANDIA         S.PAULO   \n",
       "...              ...            ...                ...             ...   \n",
       "22556     31/01/2019          22:20         SAO MATEUS         S.PAULO   \n",
       "22557     31/01/2019          22:00         ITAIM BIBI         S.PAULO   \n",
       "22559     31/01/2019          20:05  CIDADE TIRADENTES         S.PAULO   \n",
       "22560     31/01/2019          20:30           TREMEMBE         S.PAULO   \n",
       "22561     31/01/2019          13:00         AREA RURAL  RIBEIRAO PRETO   \n",
       "\n",
       "        LATITUDE  LONGITUDE  MES  GRUPO  \n",
       "1     -23.003776 -47.106153    1    628  \n",
       "4     -23.609402 -46.929926    1    911  \n",
       "5     -23.576057 -46.554417    1   3639  \n",
       "6     -23.630611 -46.471524    1   4143  \n",
       "7     -23.457706 -46.690668    1   3839  \n",
       "...          ...        ...  ...    ...  \n",
       "22556 -23.614637 -46.470736    3   4014  \n",
       "22557 -23.586411 -46.676220    3   4370  \n",
       "22559 -23.587221 -46.406488    3   3686  \n",
       "22560 -23.452332 -46.601216    3   4374  \n",
       "22561 -21.329122 -47.830969    3   2887  \n",
       "\n",
       "[42987 rows x 8 columns]"
      ]
     },
     "execution_count": 4,
     "metadata": {},
     "output_type": "execute_result"
    }
   ],
   "source": [
    "df_train"
   ]
  },
  {
   "cell_type": "code",
   "execution_count": 5,
   "metadata": {},
   "outputs": [
    {
     "data": {
      "text/html": [
       "<div>\n",
       "<style scoped>\n",
       "    .dataframe tbody tr th:only-of-type {\n",
       "        vertical-align: middle;\n",
       "    }\n",
       "\n",
       "    .dataframe tbody tr th {\n",
       "        vertical-align: top;\n",
       "    }\n",
       "\n",
       "    .dataframe thead th {\n",
       "        text-align: right;\n",
       "    }\n",
       "</style>\n",
       "<table border=\"1\" class=\"dataframe\">\n",
       "  <thead>\n",
       "    <tr style=\"text-align: right;\">\n",
       "      <th></th>\n",
       "      <th>DATAOCORRENCIA</th>\n",
       "      <th>HORAOCORRENCIA</th>\n",
       "      <th>BAIRRO</th>\n",
       "      <th>CIDADE</th>\n",
       "      <th>LATITUDE</th>\n",
       "      <th>LONGITUDE</th>\n",
       "      <th>MES</th>\n",
       "      <th>GRUPO</th>\n",
       "    </tr>\n",
       "  </thead>\n",
       "  <tbody>\n",
       "    <tr>\n",
       "      <th>0</th>\n",
       "      <td>31/01/2019</td>\n",
       "      <td>19:00</td>\n",
       "      <td>ITAIM PAULISTA</td>\n",
       "      <td>S.PAULO</td>\n",
       "      <td>-23.510144</td>\n",
       "      <td>-46.397749</td>\n",
       "      <td>4</td>\n",
       "      <td>4009</td>\n",
       "    </tr>\n",
       "    <tr>\n",
       "      <th>1</th>\n",
       "      <td>31/01/2019</td>\n",
       "      <td>21:45</td>\n",
       "      <td>VALO VELHO</td>\n",
       "      <td>ITAPECERICA DA SERRA</td>\n",
       "      <td>-23.689874</td>\n",
       "      <td>-46.800888</td>\n",
       "      <td>4</td>\n",
       "      <td>1615</td>\n",
       "    </tr>\n",
       "    <tr>\n",
       "      <th>2</th>\n",
       "      <td>31/01/2019</td>\n",
       "      <td>16:20</td>\n",
       "      <td>CAETETUBA</td>\n",
       "      <td>ATIBAIA</td>\n",
       "      <td>-23.114819</td>\n",
       "      <td>-46.586959</td>\n",
       "      <td>4</td>\n",
       "      <td>198</td>\n",
       "    </tr>\n",
       "    <tr>\n",
       "      <th>4</th>\n",
       "      <td>28/01/2019</td>\n",
       "      <td>04:30</td>\n",
       "      <td>ITAIM PAULISTA</td>\n",
       "      <td>S.PAULO</td>\n",
       "      <td>-23.497685</td>\n",
       "      <td>-46.393311</td>\n",
       "      <td>4</td>\n",
       "      <td>4226</td>\n",
       "    </tr>\n",
       "    <tr>\n",
       "      <th>5</th>\n",
       "      <td>31/01/2019</td>\n",
       "      <td>19:30</td>\n",
       "      <td>BOM RETIRO</td>\n",
       "      <td>S.PAULO</td>\n",
       "      <td>-23.524828</td>\n",
       "      <td>-46.630724</td>\n",
       "      <td>4</td>\n",
       "      <td>3592</td>\n",
       "    </tr>\n",
       "    <tr>\n",
       "      <th>...</th>\n",
       "      <td>...</td>\n",
       "      <td>...</td>\n",
       "      <td>...</td>\n",
       "      <td>...</td>\n",
       "      <td>...</td>\n",
       "      <td>...</td>\n",
       "      <td>...</td>\n",
       "      <td>...</td>\n",
       "    </tr>\n",
       "    <tr>\n",
       "      <th>20807</th>\n",
       "      <td>28/02/2019</td>\n",
       "      <td>20:45</td>\n",
       "      <td>GUAIANASES</td>\n",
       "      <td>S.PAULO</td>\n",
       "      <td>-23.542405</td>\n",
       "      <td>-46.419923</td>\n",
       "      <td>4</td>\n",
       "      <td>4393</td>\n",
       "    </tr>\n",
       "    <tr>\n",
       "      <th>20808</th>\n",
       "      <td>28/02/2019</td>\n",
       "      <td>19:00</td>\n",
       "      <td>SANTO AMARO</td>\n",
       "      <td>S.PAULO</td>\n",
       "      <td>-23.628584</td>\n",
       "      <td>-46.691692</td>\n",
       "      <td>4</td>\n",
       "      <td>2000</td>\n",
       "    </tr>\n",
       "    <tr>\n",
       "      <th>20809</th>\n",
       "      <td>28/02/2019</td>\n",
       "      <td>16:00</td>\n",
       "      <td>VILA SONIA</td>\n",
       "      <td>S.PAULO</td>\n",
       "      <td>-23.595742</td>\n",
       "      <td>-46.740399</td>\n",
       "      <td>4</td>\n",
       "      <td>3709</td>\n",
       "    </tr>\n",
       "    <tr>\n",
       "      <th>20810</th>\n",
       "      <td>28/02/2019</td>\n",
       "      <td>22:40</td>\n",
       "      <td>VILA HELENA II</td>\n",
       "      <td>SUZANO</td>\n",
       "      <td>-23.597856</td>\n",
       "      <td>-46.307167</td>\n",
       "      <td>4</td>\n",
       "      <td>4868</td>\n",
       "    </tr>\n",
       "    <tr>\n",
       "      <th>20811</th>\n",
       "      <td>28/02/2019</td>\n",
       "      <td>20:00</td>\n",
       "      <td>JAGUARE</td>\n",
       "      <td>S.PAULO</td>\n",
       "      <td>-23.548775</td>\n",
       "      <td>-46.732606</td>\n",
       "      <td>4</td>\n",
       "      <td>4319</td>\n",
       "    </tr>\n",
       "  </tbody>\n",
       "</table>\n",
       "<p>13656 rows × 8 columns</p>\n",
       "</div>"
      ],
      "text/plain": [
       "      DATAOCORRENCIA HORAOCORRENCIA          BAIRRO                CIDADE  \\\n",
       "0         31/01/2019          19:00  ITAIM PAULISTA               S.PAULO   \n",
       "1         31/01/2019          21:45      VALO VELHO  ITAPECERICA DA SERRA   \n",
       "2         31/01/2019          16:20       CAETETUBA               ATIBAIA   \n",
       "4         28/01/2019          04:30  ITAIM PAULISTA               S.PAULO   \n",
       "5         31/01/2019          19:30      BOM RETIRO               S.PAULO   \n",
       "...              ...            ...             ...                   ...   \n",
       "20807     28/02/2019          20:45      GUAIANASES               S.PAULO   \n",
       "20808     28/02/2019          19:00     SANTO AMARO               S.PAULO   \n",
       "20809     28/02/2019          16:00      VILA SONIA               S.PAULO   \n",
       "20810     28/02/2019          22:40  VILA HELENA II                SUZANO   \n",
       "20811     28/02/2019          20:00         JAGUARE               S.PAULO   \n",
       "\n",
       "        LATITUDE  LONGITUDE  MES  GRUPO  \n",
       "0     -23.510144 -46.397749    4   4009  \n",
       "1     -23.689874 -46.800888    4   1615  \n",
       "2     -23.114819 -46.586959    4    198  \n",
       "4     -23.497685 -46.393311    4   4226  \n",
       "5     -23.524828 -46.630724    4   3592  \n",
       "...          ...        ...  ...    ...  \n",
       "20807 -23.542405 -46.419923    4   4393  \n",
       "20808 -23.628584 -46.691692    4   2000  \n",
       "20809 -23.595742 -46.740399    4   3709  \n",
       "20810 -23.597856 -46.307167    4   4868  \n",
       "20811 -23.548775 -46.732606    4   4319  \n",
       "\n",
       "[13656 rows x 8 columns]"
      ]
     },
     "execution_count": 5,
     "metadata": {},
     "output_type": "execute_result"
    }
   ],
   "source": [
    "df_test"
   ]
  },
  {
   "cell_type": "markdown",
   "metadata": {},
   "source": [
    "### Função para obter número de agrupamentos\n",
    "Dado o *DataFrame* de treinamento, retorna o número de agrupamentos"
   ]
  },
  {
   "cell_type": "code",
   "execution_count": 6,
   "metadata": {},
   "outputs": [],
   "source": [
    "def get_n_clusters(df_train):\n",
    "    n_clusters, _ = df_train[['BAIRRO', 'CIDADE', 'LATITUDE', 'LONGITUDE']].groupby(['CIDADE', 'BAIRRO']).mean().dropna().to_numpy().shape\n",
    "    return n_clusters"
   ]
  },
  {
   "cell_type": "code",
   "execution_count": 7,
   "metadata": {},
   "outputs": [
    {
     "data": {
      "text/plain": [
       "5111"
      ]
     },
     "execution_count": 7,
     "metadata": {},
     "output_type": "execute_result"
    }
   ],
   "source": [
    "get_n_clusters(df_train)"
   ]
  },
  {
   "cell_type": "markdown",
   "metadata": {},
   "source": [
    "### Função para transformar os atributos do *DataFrame*\n",
    "Dado o *DataFrame* e o número de agrupamentos, a função cria uma série temporal com os números de eventos mensais de cada grupo e retorna uma tupla com os dados dos atributos e valores-alvo."
   ]
  },
  {
   "cell_type": "code",
   "execution_count": 8,
   "metadata": {},
   "outputs": [],
   "source": [
    "def get_X_y(df, n_clusters):\n",
    "    \n",
    "    # cria uma série temporal com o número de eventos mensais de cada grupo\n",
    "    df = df.groupby(['GRUPO', 'MES']).size().reset_index()\n",
    "    df.columns = ['GRUPO', 'MES', 'COUNT']\n",
    "    \n",
    "    # transforma o número de cada grupo em variáveis categóricas\n",
    "    pipeline = ColumnTransformer([\n",
    "        ('grupo', OneHotEncoder(categories=[np.arange(n_clusters, dtype='int32')]), ['GRUPO']),\n",
    "        ('mes', 'passthrough', ['MES'])\n",
    "    ])\n",
    "    X = pipeline.fit_transform(df)\n",
    "    y = df['COUNT']\n",
    "    return X, y"
   ]
  },
  {
   "cell_type": "markdown",
   "metadata": {},
   "source": [
    "**Exemplo:** Transformando os atributos dos *DataFrames* de treino e teste"
   ]
  },
  {
   "cell_type": "code",
   "execution_count": 9,
   "metadata": {},
   "outputs": [
    {
     "data": {
      "text/plain": [
       "((10334, 5112), (10334,), (3200, 5112), (3200,))"
      ]
     },
     "execution_count": 9,
     "metadata": {},
     "output_type": "execute_result"
    }
   ],
   "source": [
    "n_clusters = get_n_clusters(df_train)\n",
    "X_train, y_train = get_X_y(df_train, n_clusters)\n",
    "X_test, y_test = get_X_y(df_test, n_clusters)\n",
    "X_train.shape, y_train.shape, X_test.shape, y_test.shape"
   ]
  },
  {
   "cell_type": "markdown",
   "metadata": {},
   "source": [
    "---\n",
    "## Funções para Métricas de Desempenho"
   ]
  },
  {
   "cell_type": "markdown",
   "metadata": {},
   "source": [
    "### Função para obter a Acurácia e Medida F<sub>1</sub> do Modelo de Regressão\n",
    "Dado um modelo de regressão, ano, mês e número de meses anteriores, retorna uma tupla com Acurácia e a Medida $F_1$ do modelo."
   ]
  },
  {
   "cell_type": "code",
   "execution_count": 1,
   "metadata": {},
   "outputs": [],
   "source": [
    "def regressor_scores(regressor, year, month, n_month):\n",
    "    \n",
    "    # carregamento dos dataframes de treino e teste\n",
    "    df_train, df_test = load_dataframe(year, month, n_month)\n",
    "    n_clusters = get_n_clusters(df_train)\n",
    "    \n",
    "    # transformação dos atributos\n",
    "    X_train, y_train = get_X_y(df_train, n_clusters)\n",
    "    X_test, y_test = get_X_y(df_test, n_clusters)\n",
    "\n",
    "    # treinamento e predição do modelo de regressão\n",
    "    regressor.fit(X_train, y_train)\n",
    "    y_pred = regressor.predict(X_test)\n",
    "\n",
    "    # categorização do resultado da predição e teste, baseado na mediana\n",
    "    threshold = y_train.median()\n",
    "    h_pred = y_pred >= threshold\n",
    "    h_test = y_test >= threshold\n",
    "\n",
    "    # retorna a Acurácia e Medida F1\n",
    "    return accuracy_score(h_test, h_pred), f1_score(h_test, h_pred, average='weighted')"
   ]
  },
  {
   "cell_type": "markdown",
   "metadata": {},
   "source": [
    "**Exemplo:** Obtendo a Acurácia e a Medida F<sub>1</sub> do modelo de Regressão Linear com os dados de 3 meses anteriores a Fevereiro de 2019"
   ]
  },
  {
   "cell_type": "code",
   "execution_count": 11,
   "metadata": {},
   "outputs": [
    {
     "data": {
      "text/plain": [
       "(0.7428125, 0.7489214467899266)"
      ]
     },
     "execution_count": 11,
     "metadata": {},
     "output_type": "execute_result"
    }
   ],
   "source": [
    "lr = LinearRegression()\n",
    "regressor_scores(lr, 2019, 2, 3)"
   ]
  },
  {
   "cell_type": "markdown",
   "metadata": {},
   "source": [
    "### Função para obter a Acurácia e Medida F<sub>1</sub> do Algoritmo de Classificação\n",
    "Dado um modelo de classificação, ano, mês e número de meses anteriores, retorna uma tupla com Acurácia e a Medida F<sub>1</sub> do modelo."
   ]
  },
  {
   "cell_type": "code",
   "execution_count": 2,
   "metadata": {},
   "outputs": [],
   "source": [
    "def classifier_scores(classifier, year, month, n_month):\n",
    "    \n",
    "    # carregamento dos dataframes de treino e teste\n",
    "    df_train, df_test = load_dataframe(year, month, n_month)\n",
    "    n_clusters = get_n_clusters(df_train)\n",
    "    \n",
    "    # transformação dos atributos\n",
    "    X_train, y_train = get_X_y(df_train, n_clusters)\n",
    "    X_test, y_test = get_X_y(df_test, n_clusters)\n",
    "    \n",
    "    # categorização das variáveis-alvo baseado na mediana\n",
    "    threshold = y_train.median()\n",
    "    h_train = y_train >= threshold\n",
    "    h_test = y_test >= threshold\n",
    "\n",
    "    # treinamento e predição do modelo de classificação\n",
    "    classifier.fit(X_train, h_train)\n",
    "    h_pred = classifier.predict(X_test)\n",
    "    \n",
    "    # retorna Acurácia e Medida F1\n",
    "    return accuracy_score(h_test, h_pred), f1_score(h_test, h_pred, average='weighted')"
   ]
  },
  {
   "cell_type": "markdown",
   "metadata": {},
   "source": [
    "**Exemplo:** Obtendo a Acurácia e a Medida F<sub>1</sub> do modelo de Regressão Logística com os dados de 3 meses anteriores a Fevereiro de 2019"
   ]
  },
  {
   "cell_type": "code",
   "execution_count": 13,
   "metadata": {},
   "outputs": [
    {
     "data": {
      "text/plain": [
       "(0.7359375, 0.730754739856343)"
      ]
     },
     "execution_count": 13,
     "metadata": {},
     "output_type": "execute_result"
    }
   ],
   "source": [
    "lrc = LogisticRegression()\n",
    "classifier_scores(lrc, 2019, 2, 3)"
   ]
  },
  {
   "cell_type": "markdown",
   "metadata": {},
   "source": [
    "---\n",
    "## Testes"
   ]
  },
  {
   "cell_type": "markdown",
   "metadata": {},
   "source": [
    "### Função para guardar os dados de desempenho\n",
    "Dado a função de métrica de desempenho, modelo e o nome do diretório, realiza a bateria de testes para o ano de 2019 e guarda os resultados no diretório definido."
   ]
  },
  {
   "cell_type": "code",
   "execution_count": 14,
   "metadata": {},
   "outputs": [],
   "source": [
    "def save_scores(scores, model, dirname):\n",
    "    \n",
    "    # criação da pasta para guardar os resultados\n",
    "    if not os.path.exists(dirname):\n",
    "        os.makedirs(dirname)\n",
    "\n",
    "    # ano, meses, número de meses anteriores e número de agrupamentos\n",
    "    year = 2019\n",
    "    months = [1, 2, 3, 4, 5, 6, 7, 8, 9, 10, 11, 12]\n",
    "    n_months = [1, 2, 3, 4, 5, 6, 7, 8, 9, 10, 11, 12]\n",
    "        \n",
    "    # estruturas de dados para as métricas de desempenho\n",
    "    accuracy_scores = np.zeros((len(months), len(n_months)))\n",
    "    f1_scores = np.zeros((len(months), len(n_months)))\n",
    "    elapsed_time = np.zeros((len(months), len(n_months)))\n",
    "    \n",
    "    # para cada mês e número de meses anteriores:\n",
    "    for x, month in enumerate(months):\n",
    "        for y, n_month in enumerate(n_months):\n",
    "            start = time.time()\n",
    "            # atribuímos as medidas de desempenho à estrutura de dados\n",
    "            accuracy_scores[x][y], f1_scores[x][y] = scores(model, year, month, n_month)\n",
    "            stop = time.time()\n",
    "            elapsed_time[x][y] = stop - start\n",
    "                \n",
    "    # por fim, salvamos os resultados atribuídos na estrutura de dados\n",
    "    np.save('{0}/{1}_accuracy'.format(dirname, year), accuracy_scores)\n",
    "    np.save('{0}/{1}_f1'.format(dirname, year), f1_scores)\n",
    "    np.save('{0}/{1}_time'.format(dirname, year), elapsed_time)"
   ]
  },
  {
   "cell_type": "markdown",
   "metadata": {},
   "source": [
    "### Testes dos Regressores"
   ]
  },
  {
   "cell_type": "markdown",
   "metadata": {},
   "source": [
    "Modelo Base (somente média)"
   ]
  },
  {
   "cell_type": "code",
   "execution_count": null,
   "metadata": {},
   "outputs": [],
   "source": [
    "dr = DummyRegressor(strategy='mean')\n",
    "save_scores(regressor_scores, dr, 'scores_dynamic_dr')"
   ]
  },
  {
   "cell_type": "markdown",
   "metadata": {},
   "source": [
    "Regressão Linear"
   ]
  },
  {
   "cell_type": "code",
   "execution_count": 16,
   "metadata": {},
   "outputs": [],
   "source": [
    "lr = LinearRegression(n_jobs=-1)\n",
    "save_scores(regressor_scores, lr, 'scores_dynamic_lr')"
   ]
  },
  {
   "cell_type": "markdown",
   "metadata": {},
   "source": [
    "Regressão com *Random Forest*"
   ]
  },
  {
   "cell_type": "code",
   "execution_count": 17,
   "metadata": {},
   "outputs": [],
   "source": [
    "rfr = RandomForestRegressor(n_jobs=-1)\n",
    "save_scores(regressor_scores, rfr, 'scores_dynamic_rfr')"
   ]
  },
  {
   "cell_type": "markdown",
   "metadata": {},
   "source": [
    "Regressão com *Perceptron* de Múltiplas Camadas"
   ]
  },
  {
   "cell_type": "code",
   "execution_count": 21,
   "metadata": {},
   "outputs": [],
   "source": [
    "mlpr = MLPRegressor(early_stopping=True, max_iter=100000)\n",
    "save_scores(regressor_scores, mlpr, 'scores_dynamic_mlpr')"
   ]
  },
  {
   "cell_type": "markdown",
   "metadata": {},
   "source": [
    "### Testes dos Classificadores"
   ]
  },
  {
   "cell_type": "markdown",
   "metadata": {},
   "source": [
    "Modelo Base (classe de maior frequência)"
   ]
  },
  {
   "cell_type": "code",
   "execution_count": 18,
   "metadata": {},
   "outputs": [],
   "source": [
    "dc = DummyClassifier(strategy='prior')\n",
    "save_scores(classifier_scores, dc, 'scores_dynamic_dc')"
   ]
  },
  {
   "cell_type": "markdown",
   "metadata": {},
   "source": [
    "Regressão Logística"
   ]
  },
  {
   "cell_type": "code",
   "execution_count": 19,
   "metadata": {},
   "outputs": [],
   "source": [
    "lrc = LogisticRegression(n_jobs=-1)\n",
    "save_scores(classifier_scores, lrc, 'scores_dynamic_lrc')"
   ]
  },
  {
   "cell_type": "markdown",
   "metadata": {},
   "source": [
    "Classificador com *Random Forest*"
   ]
  },
  {
   "cell_type": "code",
   "execution_count": 20,
   "metadata": {},
   "outputs": [],
   "source": [
    "rfc = RandomForestClassifier(n_jobs=-1)\n",
    "save_scores(classifier_scores, rfc, 'scores_dynamic_rfc')"
   ]
  },
  {
   "cell_type": "markdown",
   "metadata": {},
   "source": [
    "Classificador com *Perceptron* de Múltiplas Camadas"
   ]
  },
  {
   "cell_type": "code",
   "execution_count": 22,
   "metadata": {},
   "outputs": [],
   "source": [
    "mlpc = MLPClassifier(early_stopping=True, max_iter=100000)\n",
    "save_scores(classifier_scores, mlpc, 'scores_dynamic_mlpc')"
   ]
  }
 ],
 "metadata": {
  "kernelspec": {
   "display_name": "Python 3",
   "language": "python",
   "name": "python3"
  },
  "language_info": {
   "codemirror_mode": {
    "name": "ipython",
    "version": 3
   },
   "file_extension": ".py",
   "mimetype": "text/x-python",
   "name": "python",
   "nbconvert_exporter": "python",
   "pygments_lexer": "ipython3",
   "version": "3.8.6"
  }
 },
 "nbformat": 4,
 "nbformat_minor": 4
}
