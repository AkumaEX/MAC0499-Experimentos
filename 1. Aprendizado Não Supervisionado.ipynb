{
 "cells": [
  {
   "cell_type": "markdown",
   "metadata": {},
   "source": [
    "# Aprendizado Não Supervisionado"
   ]
  },
  {
   "cell_type": "markdown",
   "metadata": {},
   "source": [
    "Bibliotecas necessárias"
   ]
  },
  {
   "cell_type": "code",
   "execution_count": 1,
   "metadata": {},
   "outputs": [],
   "source": [
    "import pandas as pd\n",
    "from sklearn.cluster import MiniBatchKMeans\n",
    "import os"
   ]
  },
  {
   "cell_type": "markdown",
   "metadata": {},
   "source": [
    "---\n",
    "## Funções auxiliares"
   ]
  },
  {
   "cell_type": "markdown",
   "metadata": {},
   "source": [
    "### Função para obter a data anterior\n",
    "Dado o ano, mês e o número de meses anteriores, retorna uma tupla (ano, mês) anterior ao número de meses."
   ]
  },
  {
   "cell_type": "code",
   "execution_count": 2,
   "metadata": {},
   "outputs": [],
   "source": [
    "def get_previous_date(year, month, n_months):\n",
    "    years = n_months // 12\n",
    "    n_months = n_months % 12\n",
    "    year_result = year-years if month-n_months > 0 else year-(years+1)\n",
    "    month_result = month-n_months if month-n_months > 0 else 12 if month-n_months == 0 else (month-n_months)%12\n",
    "    return year_result, month_result"
   ]
  },
  {
   "cell_type": "markdown",
   "metadata": {},
   "source": [
    "**Exemplo:** 3 meses anteriores a Fevereiro de 2019 é Novembro de 2018"
   ]
  },
  {
   "cell_type": "code",
   "execution_count": 3,
   "metadata": {},
   "outputs": [
    {
     "data": {
      "text/plain": [
       "(2018, 11)"
      ]
     },
     "execution_count": 3,
     "metadata": {},
     "output_type": "execute_result"
    }
   ],
   "source": [
    "get_previous_date(2019, 2, 3)"
   ]
  },
  {
   "cell_type": "markdown",
   "metadata": {},
   "source": [
    "### Função para obter o caminho dos arquivos\n",
    "Dado o ano, mês e o número de meses anteriores, retorna uma lista de caminhos dos arquivos dos meses anteriores."
   ]
  },
  {
   "cell_type": "code",
   "execution_count": 4,
   "metadata": {},
   "outputs": [],
   "source": [
    "def get_filepaths(year, month, n_months):\n",
    "    filenames = []\n",
    "    for n in range(n_months, -1, -1):\n",
    "        y, m = get_previous_date(year, month, n)\n",
    "        filenames.append('data/DadosBO_{0}_{1}(ROUBO DE CELULAR).xls'.format(y, m))\n",
    "    return filenames"
   ]
  },
  {
   "cell_type": "markdown",
   "metadata": {},
   "source": [
    "**Exemplo:** 3 meses anteriores a Fevereiro de 2019 deve retornar uma lista com os caminhos dos arquivos de:\n",
    "* Novembro de 2018\n",
    "* Dezembro de 2018\n",
    "* Janeiro de 2019\n",
    "* Fevereiro de 2019"
   ]
  },
  {
   "cell_type": "code",
   "execution_count": 5,
   "metadata": {},
   "outputs": [
    {
     "data": {
      "text/plain": [
       "['data/DadosBO_2018_11(ROUBO DE CELULAR).xls',\n",
       " 'data/DadosBO_2018_12(ROUBO DE CELULAR).xls',\n",
       " 'data/DadosBO_2019_1(ROUBO DE CELULAR).xls',\n",
       " 'data/DadosBO_2019_2(ROUBO DE CELULAR).xls']"
      ]
     },
     "execution_count": 5,
     "metadata": {},
     "output_type": "execute_result"
    }
   ],
   "source": [
    "get_filepaths(2019, 2, 3)"
   ]
  },
  {
   "cell_type": "markdown",
   "metadata": {},
   "source": [
    "### Função para carregar o *DataFrame*\n",
    "Dado o caminho do arquivo e uma ordem para o mês (1o.mês, 2o.mês, etc), retorna um *DataFrame* com as colunas **Data da Ocorrência**, **Hora da Ocorrência**, **Latitude** e **Longitude**."
   ]
  },
  {
   "cell_type": "code",
   "execution_count": 6,
   "metadata": {},
   "outputs": [],
   "source": [
    "def load_dataframe(filepath, month):\n",
    "    cols = ['DATAOCORRENCIA', 'HORAOCORRENCIA', 'LATITUDE', 'LONGITUDE']\n",
    "    df = pd.read_csv(\n",
    "        filepath_or_buffer=filepath,\n",
    "        encoding='utf-16 le',\n",
    "        delimiter='\\t',\n",
    "        decimal=',',\n",
    "        dayfirst=True,\n",
    "        usecols=cols\n",
    "    )\n",
    "    df['MES'] = month\n",
    "    return df"
   ]
  },
  {
   "cell_type": "markdown",
   "metadata": {},
   "source": [
    "**Exemplo:** Carregando os dados de Fevereiro de 2019, definindo a ordem deste *DataFrame* como o segundo mês:"
   ]
  },
  {
   "cell_type": "code",
   "execution_count": 7,
   "metadata": {},
   "outputs": [
    {
     "data": {
      "text/html": [
       "<div>\n",
       "<style scoped>\n",
       "    .dataframe tbody tr th:only-of-type {\n",
       "        vertical-align: middle;\n",
       "    }\n",
       "\n",
       "    .dataframe tbody tr th {\n",
       "        vertical-align: top;\n",
       "    }\n",
       "\n",
       "    .dataframe thead th {\n",
       "        text-align: right;\n",
       "    }\n",
       "</style>\n",
       "<table border=\"1\" class=\"dataframe\">\n",
       "  <thead>\n",
       "    <tr style=\"text-align: right;\">\n",
       "      <th></th>\n",
       "      <th>DATAOCORRENCIA</th>\n",
       "      <th>HORAOCORRENCIA</th>\n",
       "      <th>LATITUDE</th>\n",
       "      <th>LONGITUDE</th>\n",
       "      <th>MES</th>\n",
       "    </tr>\n",
       "  </thead>\n",
       "  <tbody>\n",
       "    <tr>\n",
       "      <th>0</th>\n",
       "      <td>31/01/2019</td>\n",
       "      <td>19:00</td>\n",
       "      <td>-23.510144</td>\n",
       "      <td>-46.397749</td>\n",
       "      <td>2</td>\n",
       "    </tr>\n",
       "    <tr>\n",
       "      <th>1</th>\n",
       "      <td>31/01/2019</td>\n",
       "      <td>21:45</td>\n",
       "      <td>-23.689874</td>\n",
       "      <td>-46.800888</td>\n",
       "      <td>2</td>\n",
       "    </tr>\n",
       "    <tr>\n",
       "      <th>2</th>\n",
       "      <td>31/01/2019</td>\n",
       "      <td>16:20</td>\n",
       "      <td>-23.114819</td>\n",
       "      <td>-46.586959</td>\n",
       "      <td>2</td>\n",
       "    </tr>\n",
       "    <tr>\n",
       "      <th>3</th>\n",
       "      <td>31/01/2019</td>\n",
       "      <td>16:20</td>\n",
       "      <td>-23.114819</td>\n",
       "      <td>-46.586959</td>\n",
       "      <td>2</td>\n",
       "    </tr>\n",
       "    <tr>\n",
       "      <th>4</th>\n",
       "      <td>28/01/2019</td>\n",
       "      <td>04:30</td>\n",
       "      <td>-23.497685</td>\n",
       "      <td>-46.393311</td>\n",
       "      <td>2</td>\n",
       "    </tr>\n",
       "    <tr>\n",
       "      <th>...</th>\n",
       "      <td>...</td>\n",
       "      <td>...</td>\n",
       "      <td>...</td>\n",
       "      <td>...</td>\n",
       "      <td>...</td>\n",
       "    </tr>\n",
       "    <tr>\n",
       "      <th>20811</th>\n",
       "      <td>28/02/2019</td>\n",
       "      <td>20:00</td>\n",
       "      <td>-23.548775</td>\n",
       "      <td>-46.732606</td>\n",
       "      <td>2</td>\n",
       "    </tr>\n",
       "    <tr>\n",
       "      <th>20812</th>\n",
       "      <td>28/02/2019</td>\n",
       "      <td>20:00</td>\n",
       "      <td>-23.548775</td>\n",
       "      <td>-46.732606</td>\n",
       "      <td>2</td>\n",
       "    </tr>\n",
       "    <tr>\n",
       "      <th>20813</th>\n",
       "      <td>28/02/2019</td>\n",
       "      <td>20:00</td>\n",
       "      <td>-23.548775</td>\n",
       "      <td>-46.732606</td>\n",
       "      <td>2</td>\n",
       "    </tr>\n",
       "    <tr>\n",
       "      <th>20814</th>\n",
       "      <td>28/02/2019</td>\n",
       "      <td>20:00</td>\n",
       "      <td>-23.548775</td>\n",
       "      <td>-46.732606</td>\n",
       "      <td>2</td>\n",
       "    </tr>\n",
       "    <tr>\n",
       "      <th>20815</th>\n",
       "      <td>26/02/2019</td>\n",
       "      <td>19:30</td>\n",
       "      <td>-23.664649</td>\n",
       "      <td>-46.593283</td>\n",
       "      <td>2</td>\n",
       "    </tr>\n",
       "  </tbody>\n",
       "</table>\n",
       "<p>20816 rows × 5 columns</p>\n",
       "</div>"
      ],
      "text/plain": [
       "      DATAOCORRENCIA HORAOCORRENCIA   LATITUDE  LONGITUDE  MES\n",
       "0         31/01/2019          19:00 -23.510144 -46.397749    2\n",
       "1         31/01/2019          21:45 -23.689874 -46.800888    2\n",
       "2         31/01/2019          16:20 -23.114819 -46.586959    2\n",
       "3         31/01/2019          16:20 -23.114819 -46.586959    2\n",
       "4         28/01/2019          04:30 -23.497685 -46.393311    2\n",
       "...              ...            ...        ...        ...  ...\n",
       "20811     28/02/2019          20:00 -23.548775 -46.732606    2\n",
       "20812     28/02/2019          20:00 -23.548775 -46.732606    2\n",
       "20813     28/02/2019          20:00 -23.548775 -46.732606    2\n",
       "20814     28/02/2019          20:00 -23.548775 -46.732606    2\n",
       "20815     26/02/2019          19:30 -23.664649 -46.593283    2\n",
       "\n",
       "[20816 rows x 5 columns]"
      ]
     },
     "execution_count": 7,
     "metadata": {},
     "output_type": "execute_result"
    }
   ],
   "source": [
    "load_dataframe('data/DadosBO_2019_2(ROUBO DE CELULAR).xls', 2)"
   ]
  },
  {
   "cell_type": "markdown",
   "metadata": {},
   "source": [
    "### Função para carregar e concatenar vários *DataFrames*\n",
    "Dado o ano, mês e o número de meses anteriores, retorna um *DataFrame* com os dados dos meses anteriores e o atual, em ordem cronológica"
   ]
  },
  {
   "cell_type": "code",
   "execution_count": 8,
   "metadata": {},
   "outputs": [],
   "source": [
    "def load_dataframes(year, month, n_months):\n",
    "    filepaths = get_filepaths(year, month, n_months)\n",
    "    return pd.concat([load_dataframe(filepath, idx + 1) for idx, filepath in enumerate(filepaths)])"
   ]
  },
  {
   "cell_type": "markdown",
   "metadata": {},
   "source": [
    "**Exemplo:** 3 meses anteriores a Fevereiro de 2019 retorna um *DataFrame* com os dados de:\n",
    "* Novembro de 2018 como o primeiro mês\n",
    "* Dezembro de 2018 como o segundo mês\n",
    "* Janeiro de 2019 como o terceiro mês\n",
    "* Fevereiro de 2019 como o quarto mês"
   ]
  },
  {
   "cell_type": "code",
   "execution_count": 9,
   "metadata": {},
   "outputs": [
    {
     "data": {
      "text/html": [
       "<div>\n",
       "<style scoped>\n",
       "    .dataframe tbody tr th:only-of-type {\n",
       "        vertical-align: middle;\n",
       "    }\n",
       "\n",
       "    .dataframe tbody tr th {\n",
       "        vertical-align: top;\n",
       "    }\n",
       "\n",
       "    .dataframe thead th {\n",
       "        text-align: right;\n",
       "    }\n",
       "</style>\n",
       "<table border=\"1\" class=\"dataframe\">\n",
       "  <thead>\n",
       "    <tr style=\"text-align: right;\">\n",
       "      <th></th>\n",
       "      <th>DATAOCORRENCIA</th>\n",
       "      <th>HORAOCORRENCIA</th>\n",
       "      <th>LATITUDE</th>\n",
       "      <th>LONGITUDE</th>\n",
       "      <th>MES</th>\n",
       "    </tr>\n",
       "  </thead>\n",
       "  <tbody>\n",
       "    <tr>\n",
       "      <th>0</th>\n",
       "      <td>31/10/2018</td>\n",
       "      <td>06:25</td>\n",
       "      <td>NaN</td>\n",
       "      <td>NaN</td>\n",
       "      <td>1</td>\n",
       "    </tr>\n",
       "    <tr>\n",
       "      <th>1</th>\n",
       "      <td>31/10/2018</td>\n",
       "      <td>21:30</td>\n",
       "      <td>-23.003776</td>\n",
       "      <td>-47.106153</td>\n",
       "      <td>1</td>\n",
       "    </tr>\n",
       "    <tr>\n",
       "      <th>2</th>\n",
       "      <td>31/10/2018</td>\n",
       "      <td>20:30</td>\n",
       "      <td>NaN</td>\n",
       "      <td>NaN</td>\n",
       "      <td>1</td>\n",
       "    </tr>\n",
       "    <tr>\n",
       "      <th>3</th>\n",
       "      <td>31/10/2018</td>\n",
       "      <td>20:30</td>\n",
       "      <td>-24.042856</td>\n",
       "      <td>-46.507023</td>\n",
       "      <td>1</td>\n",
       "    </tr>\n",
       "    <tr>\n",
       "      <th>4</th>\n",
       "      <td>31/10/2018</td>\n",
       "      <td>21:00</td>\n",
       "      <td>-23.609402</td>\n",
       "      <td>-46.929926</td>\n",
       "      <td>1</td>\n",
       "    </tr>\n",
       "    <tr>\n",
       "      <th>...</th>\n",
       "      <td>...</td>\n",
       "      <td>...</td>\n",
       "      <td>...</td>\n",
       "      <td>...</td>\n",
       "      <td>...</td>\n",
       "    </tr>\n",
       "    <tr>\n",
       "      <th>20811</th>\n",
       "      <td>28/02/2019</td>\n",
       "      <td>20:00</td>\n",
       "      <td>-23.548775</td>\n",
       "      <td>-46.732606</td>\n",
       "      <td>4</td>\n",
       "    </tr>\n",
       "    <tr>\n",
       "      <th>20812</th>\n",
       "      <td>28/02/2019</td>\n",
       "      <td>20:00</td>\n",
       "      <td>-23.548775</td>\n",
       "      <td>-46.732606</td>\n",
       "      <td>4</td>\n",
       "    </tr>\n",
       "    <tr>\n",
       "      <th>20813</th>\n",
       "      <td>28/02/2019</td>\n",
       "      <td>20:00</td>\n",
       "      <td>-23.548775</td>\n",
       "      <td>-46.732606</td>\n",
       "      <td>4</td>\n",
       "    </tr>\n",
       "    <tr>\n",
       "      <th>20814</th>\n",
       "      <td>28/02/2019</td>\n",
       "      <td>20:00</td>\n",
       "      <td>-23.548775</td>\n",
       "      <td>-46.732606</td>\n",
       "      <td>4</td>\n",
       "    </tr>\n",
       "    <tr>\n",
       "      <th>20815</th>\n",
       "      <td>26/02/2019</td>\n",
       "      <td>19:30</td>\n",
       "      <td>-23.664649</td>\n",
       "      <td>-46.593283</td>\n",
       "      <td>4</td>\n",
       "    </tr>\n",
       "  </tbody>\n",
       "</table>\n",
       "<p>88788 rows × 5 columns</p>\n",
       "</div>"
      ],
      "text/plain": [
       "      DATAOCORRENCIA HORAOCORRENCIA   LATITUDE  LONGITUDE  MES\n",
       "0         31/10/2018          06:25        NaN        NaN    1\n",
       "1         31/10/2018          21:30 -23.003776 -47.106153    1\n",
       "2         31/10/2018          20:30        NaN        NaN    1\n",
       "3         31/10/2018          20:30 -24.042856 -46.507023    1\n",
       "4         31/10/2018          21:00 -23.609402 -46.929926    1\n",
       "...              ...            ...        ...        ...  ...\n",
       "20811     28/02/2019          20:00 -23.548775 -46.732606    4\n",
       "20812     28/02/2019          20:00 -23.548775 -46.732606    4\n",
       "20813     28/02/2019          20:00 -23.548775 -46.732606    4\n",
       "20814     28/02/2019          20:00 -23.548775 -46.732606    4\n",
       "20815     26/02/2019          19:30 -23.664649 -46.593283    4\n",
       "\n",
       "[88788 rows x 5 columns]"
      ]
     },
     "execution_count": 9,
     "metadata": {},
     "output_type": "execute_result"
    }
   ],
   "source": [
    "load_dataframes(2019, 2, 3)"
   ]
  },
  {
   "cell_type": "markdown",
   "metadata": {},
   "source": [
    "### Função para limpar o *DataFrame*\n",
    "Dado o *DataFrame*, retorna o *DataFrame* sem entradas duplicadas, valores nulos ou inválidos"
   ]
  },
  {
   "cell_type": "code",
   "execution_count": 10,
   "metadata": {},
   "outputs": [],
   "source": [
    "def clear_dataframe(df):\n",
    "    df.drop_duplicates(inplace=True)\n",
    "    df['LATITUDE'] = pd.to_numeric(df['LATITUDE'], errors='coerce')\n",
    "    df['LONGITUDE'] = pd.to_numeric(df['LONGITUDE'], errors='coerce')\n",
    "    df.dropna(inplace=True)\n",
    "    return df"
   ]
  },
  {
   "cell_type": "code",
   "execution_count": 11,
   "metadata": {},
   "outputs": [
    {
     "data": {
      "text/html": [
       "<div>\n",
       "<style scoped>\n",
       "    .dataframe tbody tr th:only-of-type {\n",
       "        vertical-align: middle;\n",
       "    }\n",
       "\n",
       "    .dataframe tbody tr th {\n",
       "        vertical-align: top;\n",
       "    }\n",
       "\n",
       "    .dataframe thead th {\n",
       "        text-align: right;\n",
       "    }\n",
       "</style>\n",
       "<table border=\"1\" class=\"dataframe\">\n",
       "  <thead>\n",
       "    <tr style=\"text-align: right;\">\n",
       "      <th></th>\n",
       "      <th>DATAOCORRENCIA</th>\n",
       "      <th>HORAOCORRENCIA</th>\n",
       "      <th>LATITUDE</th>\n",
       "      <th>LONGITUDE</th>\n",
       "      <th>MES</th>\n",
       "    </tr>\n",
       "  </thead>\n",
       "  <tbody>\n",
       "    <tr>\n",
       "      <th>1</th>\n",
       "      <td>31/10/2018</td>\n",
       "      <td>21:30</td>\n",
       "      <td>-23.003776</td>\n",
       "      <td>-47.106153</td>\n",
       "      <td>1</td>\n",
       "    </tr>\n",
       "    <tr>\n",
       "      <th>3</th>\n",
       "      <td>31/10/2018</td>\n",
       "      <td>20:30</td>\n",
       "      <td>-24.042856</td>\n",
       "      <td>-46.507023</td>\n",
       "      <td>1</td>\n",
       "    </tr>\n",
       "    <tr>\n",
       "      <th>4</th>\n",
       "      <td>31/10/2018</td>\n",
       "      <td>21:00</td>\n",
       "      <td>-23.609402</td>\n",
       "      <td>-46.929926</td>\n",
       "      <td>1</td>\n",
       "    </tr>\n",
       "    <tr>\n",
       "      <th>5</th>\n",
       "      <td>31/10/2018</td>\n",
       "      <td>23:00</td>\n",
       "      <td>-23.576057</td>\n",
       "      <td>-46.554417</td>\n",
       "      <td>1</td>\n",
       "    </tr>\n",
       "    <tr>\n",
       "      <th>6</th>\n",
       "      <td>31/10/2018</td>\n",
       "      <td>23:00</td>\n",
       "      <td>-23.630611</td>\n",
       "      <td>-46.471524</td>\n",
       "      <td>1</td>\n",
       "    </tr>\n",
       "    <tr>\n",
       "      <th>...</th>\n",
       "      <td>...</td>\n",
       "      <td>...</td>\n",
       "      <td>...</td>\n",
       "      <td>...</td>\n",
       "      <td>...</td>\n",
       "    </tr>\n",
       "    <tr>\n",
       "      <th>20807</th>\n",
       "      <td>28/02/2019</td>\n",
       "      <td>20:45</td>\n",
       "      <td>-23.542405</td>\n",
       "      <td>-46.419923</td>\n",
       "      <td>4</td>\n",
       "    </tr>\n",
       "    <tr>\n",
       "      <th>20808</th>\n",
       "      <td>28/02/2019</td>\n",
       "      <td>19:00</td>\n",
       "      <td>-23.628584</td>\n",
       "      <td>-46.691692</td>\n",
       "      <td>4</td>\n",
       "    </tr>\n",
       "    <tr>\n",
       "      <th>20809</th>\n",
       "      <td>28/02/2019</td>\n",
       "      <td>16:00</td>\n",
       "      <td>-23.595742</td>\n",
       "      <td>-46.740399</td>\n",
       "      <td>4</td>\n",
       "    </tr>\n",
       "    <tr>\n",
       "      <th>20810</th>\n",
       "      <td>28/02/2019</td>\n",
       "      <td>22:40</td>\n",
       "      <td>-23.597856</td>\n",
       "      <td>-46.307167</td>\n",
       "      <td>4</td>\n",
       "    </tr>\n",
       "    <tr>\n",
       "      <th>20811</th>\n",
       "      <td>28/02/2019</td>\n",
       "      <td>20:00</td>\n",
       "      <td>-23.548775</td>\n",
       "      <td>-46.732606</td>\n",
       "      <td>4</td>\n",
       "    </tr>\n",
       "  </tbody>\n",
       "</table>\n",
       "<p>57021 rows × 5 columns</p>\n",
       "</div>"
      ],
      "text/plain": [
       "      DATAOCORRENCIA HORAOCORRENCIA   LATITUDE  LONGITUDE  MES\n",
       "1         31/10/2018          21:30 -23.003776 -47.106153    1\n",
       "3         31/10/2018          20:30 -24.042856 -46.507023    1\n",
       "4         31/10/2018          21:00 -23.609402 -46.929926    1\n",
       "5         31/10/2018          23:00 -23.576057 -46.554417    1\n",
       "6         31/10/2018          23:00 -23.630611 -46.471524    1\n",
       "...              ...            ...        ...        ...  ...\n",
       "20807     28/02/2019          20:45 -23.542405 -46.419923    4\n",
       "20808     28/02/2019          19:00 -23.628584 -46.691692    4\n",
       "20809     28/02/2019          16:00 -23.595742 -46.740399    4\n",
       "20810     28/02/2019          22:40 -23.597856 -46.307167    4\n",
       "20811     28/02/2019          20:00 -23.548775 -46.732606    4\n",
       "\n",
       "[57021 rows x 5 columns]"
      ]
     },
     "execution_count": 11,
     "metadata": {},
     "output_type": "execute_result"
    }
   ],
   "source": [
    "df = load_dataframes(2019, 2, 3)\n",
    "clear_dataframe(df)"
   ]
  },
  {
   "cell_type": "markdown",
   "metadata": {},
   "source": [
    "### Função para treinar modelo de agrupamento *K-Means*\n",
    "\n",
    "Dado o ano, mês, número de meses anteriores e o número de clusters, carrega *DataFrames* de treino e teste, cria e treina o modelo de agrupamento *K-Means* a partir dos dados de treino e assimila todas as amostras a seus respectivos grupos. Os *DataFrames* com os dados dos grupos são salvos no disco."
   ]
  },
  {
   "cell_type": "code",
   "execution_count": 12,
   "metadata": {},
   "outputs": [],
   "source": [
    "def train_cluster_model(year, month, n_months, n_clusters):\n",
    "    dirname = 'df_clusters'\n",
    "    if not os.path.exists(dirname):\n",
    "        os.makedirs(dirname)\n",
    "    kmeans = MiniBatchKMeans(n_clusters=n_clusters, init_size=n_clusters, max_iter=100000, n_init=10, random_state=42)\n",
    "    df = load_dataframes(year, month, n_months)\n",
    "    df = clear_dataframe(df)\n",
    "    train = df['MES'] != n_months+1\n",
    "    df_train = df[train].copy()\n",
    "    df_test = df[~train].copy()\n",
    "    df_train['GRUPO'] = kmeans.fit_predict(df_train[['LATITUDE', 'LONGITUDE']])\n",
    "    df_test['GRUPO'] = kmeans.predict(df_test[['LATITUDE', 'LONGITUDE']])\n",
    "    df_train.to_pickle('{0}/{1}_{2}_{3}_{4}_train.pkl'.format(dirname, year, month, n_months, n_clusters))\n",
    "    df_test.to_pickle('{0}/{1}_{2}_{3}_{4}_test.pkl'.format(dirname, year, month, n_months, n_clusters))"
   ]
  },
  {
   "cell_type": "markdown",
   "metadata": {},
   "source": [
    "---\n",
    "## Treinamento\n",
    "Treinamento do modelo de agrupamentos *K-Means* é realizado:\n",
    "* para cada mês de 2019\n",
    "* de 1 a 12 meses anteriores para treinamento\n",
    "* número de agrupamentos entre 500 a 5000"
   ]
  },
  {
   "cell_type": "code",
   "execution_count": 13,
   "metadata": {},
   "outputs": [],
   "source": [
    "months = [1, 2, 3, 4, 5, 6, 7, 8, 9, 10, 11, 12]\n",
    "n_months = [1, 2, 3, 4, 5, 6, 7, 8, 9, 10, 11, 12]\n",
    "n_clusters = [500, 1000, 1500, 2000, 2500, 3000, 3500, 4000, 4500, 5000]"
   ]
  },
  {
   "cell_type": "code",
   "execution_count": 14,
   "metadata": {},
   "outputs": [],
   "source": [
    "for month in months:\n",
    "    for n_month in n_months:\n",
    "        for n_cluster in n_clusters:\n",
    "            train_cluster_model(2019, month, n_month, n_cluster)"
   ]
  }
 ],
 "metadata": {
  "kernelspec": {
   "display_name": "Python 3",
   "language": "python",
   "name": "python3"
  },
  "language_info": {
   "codemirror_mode": {
    "name": "ipython",
    "version": 3
   },
   "file_extension": ".py",
   "mimetype": "text/x-python",
   "name": "python",
   "nbconvert_exporter": "python",
   "pygments_lexer": "ipython3",
   "version": "3.8.6"
  }
 },
 "nbformat": 4,
 "nbformat_minor": 4
}
