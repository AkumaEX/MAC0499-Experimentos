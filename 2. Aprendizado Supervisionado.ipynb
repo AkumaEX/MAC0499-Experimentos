{
 "cells": [
  {
   "cell_type": "markdown",
   "metadata": {},
   "source": [
    "# Aprendizado Supervisionado"
   ]
  },
  {
   "cell_type": "markdown",
   "metadata": {},
   "source": [
    "Importando dependências"
   ]
  },
  {
   "cell_type": "code",
   "execution_count": 1,
   "metadata": {},
   "outputs": [],
   "source": [
    "import pandas as pd\n",
    "import numpy as np\n",
    "import os\n",
    "import time\n",
    "from sklearn.preprocessing import OneHotEncoder\n",
    "from sklearn.compose import ColumnTransformer\n",
    "from sklearn.dummy import DummyRegressor\n",
    "from sklearn.dummy import DummyClassifier\n",
    "from sklearn.linear_model import LinearRegression\n",
    "from sklearn.linear_model import LogisticRegression\n",
    "from sklearn.ensemble import RandomForestRegressor\n",
    "from sklearn.ensemble import RandomForestClassifier\n",
    "from sklearn.neural_network import MLPRegressor\n",
    "from sklearn.neural_network import MLPClassifier\n",
    "from sklearn.metrics import f1_score, accuracy_score"
   ]
  },
  {
   "cell_type": "markdown",
   "metadata": {},
   "source": [
    "---\n",
    "## Funções Auxiliares"
   ]
  },
  {
   "cell_type": "markdown",
   "metadata": {},
   "source": [
    "### Função para carregar os DataFrames\n",
    "Dado o ano, mês, número de meses anteriores e o número de agrupamentos, retorna uma tupla de *DataFrames* de treino e teste"
   ]
  },
  {
   "cell_type": "code",
   "execution_count": 2,
   "metadata": {},
   "outputs": [],
   "source": [
    "def load_dataframe(year, month, n_months, n_clusters):\n",
    "    dirname = 'df_clusters'\n",
    "    df_train = pd.read_pickle('{0}/{1}_{2}_{3}_{4}_train.pkl'.format(dirname, year, month, n_months, n_clusters))\n",
    "    df_test = pd.read_pickle('{0}/{1}_{2}_{3}_{4}_test.pkl'.format(dirname, year, month, n_months, n_clusters))\n",
    "    return df_train, df_test"
   ]
  },
  {
   "cell_type": "markdown",
   "metadata": {},
   "source": [
    "**Exemplo:** 3 meses anteriores a Fevereiro de 2019 com 2000 agrupamentos retorna uma tupla com:\n",
    "* *DataFrame* de treino com os dados dos meses de Novembro de 2018, Dezembro de 2018 e Janeiro de 2019\n",
    "* *DataFrame* de teste com os dados do mês de Fevereiro de 2019"
   ]
  },
  {
   "cell_type": "code",
   "execution_count": 3,
   "metadata": {},
   "outputs": [],
   "source": [
    "df_train, df_test = load_dataframe(2019, 2, 3, 2000)"
   ]
  },
  {
   "cell_type": "code",
   "execution_count": 4,
   "metadata": {},
   "outputs": [
    {
     "data": {
      "text/html": [
       "<div>\n",
       "<style scoped>\n",
       "    .dataframe tbody tr th:only-of-type {\n",
       "        vertical-align: middle;\n",
       "    }\n",
       "\n",
       "    .dataframe tbody tr th {\n",
       "        vertical-align: top;\n",
       "    }\n",
       "\n",
       "    .dataframe thead th {\n",
       "        text-align: right;\n",
       "    }\n",
       "</style>\n",
       "<table border=\"1\" class=\"dataframe\">\n",
       "  <thead>\n",
       "    <tr style=\"text-align: right;\">\n",
       "      <th></th>\n",
       "      <th>DATAOCORRENCIA</th>\n",
       "      <th>HORAOCORRENCIA</th>\n",
       "      <th>LATITUDE</th>\n",
       "      <th>LONGITUDE</th>\n",
       "      <th>MES</th>\n",
       "      <th>GRUPO</th>\n",
       "    </tr>\n",
       "  </thead>\n",
       "  <tbody>\n",
       "    <tr>\n",
       "      <th>1</th>\n",
       "      <td>31/10/2018</td>\n",
       "      <td>21:30</td>\n",
       "      <td>-23.003776</td>\n",
       "      <td>-47.106153</td>\n",
       "      <td>1</td>\n",
       "      <td>728</td>\n",
       "    </tr>\n",
       "    <tr>\n",
       "      <th>3</th>\n",
       "      <td>31/10/2018</td>\n",
       "      <td>20:30</td>\n",
       "      <td>-24.042856</td>\n",
       "      <td>-46.507023</td>\n",
       "      <td>1</td>\n",
       "      <td>1445</td>\n",
       "    </tr>\n",
       "    <tr>\n",
       "      <th>4</th>\n",
       "      <td>31/10/2018</td>\n",
       "      <td>21:00</td>\n",
       "      <td>-23.609402</td>\n",
       "      <td>-46.929926</td>\n",
       "      <td>1</td>\n",
       "      <td>968</td>\n",
       "    </tr>\n",
       "    <tr>\n",
       "      <th>5</th>\n",
       "      <td>31/10/2018</td>\n",
       "      <td>23:00</td>\n",
       "      <td>-23.576057</td>\n",
       "      <td>-46.554417</td>\n",
       "      <td>1</td>\n",
       "      <td>1432</td>\n",
       "    </tr>\n",
       "    <tr>\n",
       "      <th>6</th>\n",
       "      <td>31/10/2018</td>\n",
       "      <td>23:00</td>\n",
       "      <td>-23.630611</td>\n",
       "      <td>-46.471524</td>\n",
       "      <td>1</td>\n",
       "      <td>923</td>\n",
       "    </tr>\n",
       "    <tr>\n",
       "      <th>...</th>\n",
       "      <td>...</td>\n",
       "      <td>...</td>\n",
       "      <td>...</td>\n",
       "      <td>...</td>\n",
       "      <td>...</td>\n",
       "      <td>...</td>\n",
       "    </tr>\n",
       "    <tr>\n",
       "      <th>22556</th>\n",
       "      <td>31/01/2019</td>\n",
       "      <td>22:20</td>\n",
       "      <td>-23.614637</td>\n",
       "      <td>-46.470736</td>\n",
       "      <td>3</td>\n",
       "      <td>384</td>\n",
       "    </tr>\n",
       "    <tr>\n",
       "      <th>22557</th>\n",
       "      <td>31/01/2019</td>\n",
       "      <td>22:00</td>\n",
       "      <td>-23.586411</td>\n",
       "      <td>-46.676220</td>\n",
       "      <td>3</td>\n",
       "      <td>467</td>\n",
       "    </tr>\n",
       "    <tr>\n",
       "      <th>22559</th>\n",
       "      <td>31/01/2019</td>\n",
       "      <td>20:05</td>\n",
       "      <td>-23.587221</td>\n",
       "      <td>-46.406488</td>\n",
       "      <td>3</td>\n",
       "      <td>1960</td>\n",
       "    </tr>\n",
       "    <tr>\n",
       "      <th>22560</th>\n",
       "      <td>31/01/2019</td>\n",
       "      <td>20:30</td>\n",
       "      <td>-23.452332</td>\n",
       "      <td>-46.601216</td>\n",
       "      <td>3</td>\n",
       "      <td>109</td>\n",
       "    </tr>\n",
       "    <tr>\n",
       "      <th>22561</th>\n",
       "      <td>31/01/2019</td>\n",
       "      <td>13:00</td>\n",
       "      <td>-21.329122</td>\n",
       "      <td>-47.830969</td>\n",
       "      <td>3</td>\n",
       "      <td>549</td>\n",
       "    </tr>\n",
       "  </tbody>\n",
       "</table>\n",
       "<p>43336 rows × 6 columns</p>\n",
       "</div>"
      ],
      "text/plain": [
       "      DATAOCORRENCIA HORAOCORRENCIA   LATITUDE  LONGITUDE  MES  GRUPO\n",
       "1         31/10/2018          21:30 -23.003776 -47.106153    1    728\n",
       "3         31/10/2018          20:30 -24.042856 -46.507023    1   1445\n",
       "4         31/10/2018          21:00 -23.609402 -46.929926    1    968\n",
       "5         31/10/2018          23:00 -23.576057 -46.554417    1   1432\n",
       "6         31/10/2018          23:00 -23.630611 -46.471524    1    923\n",
       "...              ...            ...        ...        ...  ...    ...\n",
       "22556     31/01/2019          22:20 -23.614637 -46.470736    3    384\n",
       "22557     31/01/2019          22:00 -23.586411 -46.676220    3    467\n",
       "22559     31/01/2019          20:05 -23.587221 -46.406488    3   1960\n",
       "22560     31/01/2019          20:30 -23.452332 -46.601216    3    109\n",
       "22561     31/01/2019          13:00 -21.329122 -47.830969    3    549\n",
       "\n",
       "[43336 rows x 6 columns]"
      ]
     },
     "execution_count": 4,
     "metadata": {},
     "output_type": "execute_result"
    }
   ],
   "source": [
    "df_train"
   ]
  },
  {
   "cell_type": "code",
   "execution_count": 5,
   "metadata": {},
   "outputs": [
    {
     "data": {
      "text/html": [
       "<div>\n",
       "<style scoped>\n",
       "    .dataframe tbody tr th:only-of-type {\n",
       "        vertical-align: middle;\n",
       "    }\n",
       "\n",
       "    .dataframe tbody tr th {\n",
       "        vertical-align: top;\n",
       "    }\n",
       "\n",
       "    .dataframe thead th {\n",
       "        text-align: right;\n",
       "    }\n",
       "</style>\n",
       "<table border=\"1\" class=\"dataframe\">\n",
       "  <thead>\n",
       "    <tr style=\"text-align: right;\">\n",
       "      <th></th>\n",
       "      <th>DATAOCORRENCIA</th>\n",
       "      <th>HORAOCORRENCIA</th>\n",
       "      <th>LATITUDE</th>\n",
       "      <th>LONGITUDE</th>\n",
       "      <th>MES</th>\n",
       "      <th>GRUPO</th>\n",
       "    </tr>\n",
       "  </thead>\n",
       "  <tbody>\n",
       "    <tr>\n",
       "      <th>0</th>\n",
       "      <td>31/01/2019</td>\n",
       "      <td>19:00</td>\n",
       "      <td>-23.510144</td>\n",
       "      <td>-46.397749</td>\n",
       "      <td>4</td>\n",
       "      <td>836</td>\n",
       "    </tr>\n",
       "    <tr>\n",
       "      <th>1</th>\n",
       "      <td>31/01/2019</td>\n",
       "      <td>21:45</td>\n",
       "      <td>-23.689874</td>\n",
       "      <td>-46.800888</td>\n",
       "      <td>4</td>\n",
       "      <td>410</td>\n",
       "    </tr>\n",
       "    <tr>\n",
       "      <th>2</th>\n",
       "      <td>31/01/2019</td>\n",
       "      <td>16:20</td>\n",
       "      <td>-23.114819</td>\n",
       "      <td>-46.586959</td>\n",
       "      <td>4</td>\n",
       "      <td>1430</td>\n",
       "    </tr>\n",
       "    <tr>\n",
       "      <th>4</th>\n",
       "      <td>28/01/2019</td>\n",
       "      <td>04:30</td>\n",
       "      <td>-23.497685</td>\n",
       "      <td>-46.393311</td>\n",
       "      <td>4</td>\n",
       "      <td>1043</td>\n",
       "    </tr>\n",
       "    <tr>\n",
       "      <th>5</th>\n",
       "      <td>31/01/2019</td>\n",
       "      <td>19:30</td>\n",
       "      <td>-23.524828</td>\n",
       "      <td>-46.630724</td>\n",
       "      <td>4</td>\n",
       "      <td>1937</td>\n",
       "    </tr>\n",
       "    <tr>\n",
       "      <th>...</th>\n",
       "      <td>...</td>\n",
       "      <td>...</td>\n",
       "      <td>...</td>\n",
       "      <td>...</td>\n",
       "      <td>...</td>\n",
       "      <td>...</td>\n",
       "    </tr>\n",
       "    <tr>\n",
       "      <th>20807</th>\n",
       "      <td>28/02/2019</td>\n",
       "      <td>20:45</td>\n",
       "      <td>-23.542405</td>\n",
       "      <td>-46.419923</td>\n",
       "      <td>4</td>\n",
       "      <td>617</td>\n",
       "    </tr>\n",
       "    <tr>\n",
       "      <th>20808</th>\n",
       "      <td>28/02/2019</td>\n",
       "      <td>19:00</td>\n",
       "      <td>-23.628584</td>\n",
       "      <td>-46.691692</td>\n",
       "      <td>4</td>\n",
       "      <td>1415</td>\n",
       "    </tr>\n",
       "    <tr>\n",
       "      <th>20809</th>\n",
       "      <td>28/02/2019</td>\n",
       "      <td>16:00</td>\n",
       "      <td>-23.595742</td>\n",
       "      <td>-46.740399</td>\n",
       "      <td>4</td>\n",
       "      <td>1312</td>\n",
       "    </tr>\n",
       "    <tr>\n",
       "      <th>20810</th>\n",
       "      <td>28/02/2019</td>\n",
       "      <td>22:40</td>\n",
       "      <td>-23.597856</td>\n",
       "      <td>-46.307167</td>\n",
       "      <td>4</td>\n",
       "      <td>540</td>\n",
       "    </tr>\n",
       "    <tr>\n",
       "      <th>20811</th>\n",
       "      <td>28/02/2019</td>\n",
       "      <td>20:00</td>\n",
       "      <td>-23.548775</td>\n",
       "      <td>-46.732606</td>\n",
       "      <td>4</td>\n",
       "      <td>192</td>\n",
       "    </tr>\n",
       "  </tbody>\n",
       "</table>\n",
       "<p>13685 rows × 6 columns</p>\n",
       "</div>"
      ],
      "text/plain": [
       "      DATAOCORRENCIA HORAOCORRENCIA   LATITUDE  LONGITUDE  MES  GRUPO\n",
       "0         31/01/2019          19:00 -23.510144 -46.397749    4    836\n",
       "1         31/01/2019          21:45 -23.689874 -46.800888    4    410\n",
       "2         31/01/2019          16:20 -23.114819 -46.586959    4   1430\n",
       "4         28/01/2019          04:30 -23.497685 -46.393311    4   1043\n",
       "5         31/01/2019          19:30 -23.524828 -46.630724    4   1937\n",
       "...              ...            ...        ...        ...  ...    ...\n",
       "20807     28/02/2019          20:45 -23.542405 -46.419923    4    617\n",
       "20808     28/02/2019          19:00 -23.628584 -46.691692    4   1415\n",
       "20809     28/02/2019          16:00 -23.595742 -46.740399    4   1312\n",
       "20810     28/02/2019          22:40 -23.597856 -46.307167    4    540\n",
       "20811     28/02/2019          20:00 -23.548775 -46.732606    4    192\n",
       "\n",
       "[13685 rows x 6 columns]"
      ]
     },
     "execution_count": 5,
     "metadata": {},
     "output_type": "execute_result"
    }
   ],
   "source": [
    "df_test"
   ]
  },
  {
   "cell_type": "markdown",
   "metadata": {},
   "source": [
    "### Função para transformar os atributos do DataFrame\n",
    "Dado o *DataFrame* e o número de agrupamentos, a função cria uma série temporal com os números de eventos mensais de cada grupo e retorna uma tupla com os dados dos atributos e valores-alvo."
   ]
  },
  {
   "cell_type": "code",
   "execution_count": 6,
   "metadata": {},
   "outputs": [],
   "source": [
    "def get_X_y(df, n_clusters):\n",
    "    \n",
    "    # cria uma série temporal com o número de eventos mensais de cada grupo\n",
    "    df = df.groupby(['GRUPO', 'MES']).size().reset_index()\n",
    "    df.columns = ['GRUPO', 'MES', 'COUNT']\n",
    "    \n",
    "    # transforma o número de cada grupo em variáveis categóricas\n",
    "    pipeline = ColumnTransformer([\n",
    "        ('grupo', OneHotEncoder(categories=[np.arange(n_clusters, dtype='int32')]), ['GRUPO']),\n",
    "        ('mes', 'passthrough', ['MES'])\n",
    "    ])\n",
    "    X = pipeline.fit_transform(df)\n",
    "    y = df['COUNT']\n",
    "    return X, y"
   ]
  },
  {
   "cell_type": "markdown",
   "metadata": {},
   "source": [
    "**Exemplo:** Transformando os atributos dos *DataFrames* de treino e teste"
   ]
  },
  {
   "cell_type": "code",
   "execution_count": 7,
   "metadata": {},
   "outputs": [
    {
     "data": {
      "text/plain": [
       "((5899, 2001), (5899,), (1949, 2001), (1949,))"
      ]
     },
     "execution_count": 7,
     "metadata": {},
     "output_type": "execute_result"
    }
   ],
   "source": [
    "X_train, y_train = get_X_y(df_train, 2000)\n",
    "X_test, y_test = get_X_y(df_test, 2000)\n",
    "X_train.shape, y_train.shape, X_test.shape, y_test.shape"
   ]
  },
  {
   "cell_type": "markdown",
   "metadata": {},
   "source": [
    "---\n",
    "## Funções para Métricas de Desempenho"
   ]
  },
  {
   "cell_type": "markdown",
   "metadata": {},
   "source": [
    "### Função para obter a Acurácia e a Medida F<sub>1</sub> do Modelo de Regressão\n",
    "Dado um modelo de regressão, ano, mês, número de meses anteriores e número de agrupamentos, retorna uma tupla com Acurácia e a Medida F<sub>1</sub> do modelo."
   ]
  },
  {
   "cell_type": "code",
   "execution_count": 8,
   "metadata": {},
   "outputs": [],
   "source": [
    "def regressor_scores(regressor, year, month, n_month, n_cluster):\n",
    "    \n",
    "    # carregamento dos dataframes de treino e teste\n",
    "    df_train, df_test = load_dataframe(year, month, n_month, n_cluster)\n",
    "\n",
    "    # transformação dos atributos\n",
    "    X_train, y_train = get_X_y(df_train, n_cluster)\n",
    "    X_test, y_test = get_X_y(df_test, n_cluster)\n",
    "\n",
    "    # treinamento e predição do modelo de regressão\n",
    "    regressor.fit(X_train, y_train)\n",
    "    y_pred = regressor.predict(X_test)\n",
    "\n",
    "    # categorização do resultado da predição e teste, baseado na mediana\n",
    "    threshold = y_train.median()\n",
    "    h_pred = y_pred >= threshold\n",
    "    h_test = y_test >= threshold\n",
    "\n",
    "    # retorna a Acurácia e F1 score\n",
    "    return accuracy_score(h_test, h_pred), f1_score(h_test, h_pred, average='weighted')"
   ]
  },
  {
   "cell_type": "markdown",
   "metadata": {},
   "source": [
    "**Exemplo:** Obtendo a Acurácia e a Medida F<sub>1</sub> do modelo de Regressão Linear com os dados de 3 meses anteriores a Fevereiro de 2019, com 2000 agrupamentos"
   ]
  },
  {
   "cell_type": "code",
   "execution_count": 9,
   "metadata": {},
   "outputs": [
    {
     "data": {
      "text/plain": [
       "(0.7131862493586455, 0.7129858199822888)"
      ]
     },
     "execution_count": 9,
     "metadata": {},
     "output_type": "execute_result"
    }
   ],
   "source": [
    "lr = LinearRegression()\n",
    "regressor_scores(lr, 2019, 2, 3, 2000)"
   ]
  },
  {
   "cell_type": "markdown",
   "metadata": {},
   "source": [
    "### Função para obter a Acurácia e a Medida F<sub>1</sub> do Algoritmo de Classificação\n",
    "Dado um modelo de classificação, ano, mês, número de meses anteriores e número de agrupamentos, retorna uma tupla com Acurácia e a Medida F<sub>1</sub> do modelo."
   ]
  },
  {
   "cell_type": "code",
   "execution_count": 10,
   "metadata": {},
   "outputs": [],
   "source": [
    "def classifier_scores(classifier, year, month, n_month, n_cluster):\n",
    "    # carregamento dos dataframes de treino e teste\n",
    "    df_train, df_test = load_dataframe(year, month, n_month, n_cluster)\n",
    "\n",
    "    # transformação dos atributos\n",
    "    X_train, y_train = get_X_y(df_train, n_cluster)\n",
    "    X_test, y_test = get_X_y(df_test, n_cluster)\n",
    "    \n",
    "    # categorização das variáveis-alvo baseado na mediana\n",
    "    threshold = y_train.median()\n",
    "    h_train = y_train >= threshold\n",
    "    h_test = y_test >= threshold\n",
    "\n",
    "    # treinamento e predição do modelo de classificação\n",
    "    classifier.fit(X_train, h_train)\n",
    "    h_pred = classifier.predict(X_test)\n",
    "    \n",
    "    # retorna Acurácia e a Medida F1\n",
    "    return accuracy_score(h_test, h_pred), f1_score(h_test, h_pred, average='weighted')"
   ]
  },
  {
   "cell_type": "markdown",
   "metadata": {},
   "source": [
    "**Exemplo:** Obtendo a Acurácia e a Medida F<sub>1</sub> do modelo de Regressão Logística com os dados de 3 meses anteriores a Fevereiro de 2019, com 2000 agrupamentos"
   ]
  },
  {
   "cell_type": "code",
   "execution_count": 11,
   "metadata": {},
   "outputs": [
    {
     "data": {
      "text/plain": [
       "(0.7085684966649564, 0.7092506758606463)"
      ]
     },
     "execution_count": 11,
     "metadata": {},
     "output_type": "execute_result"
    }
   ],
   "source": [
    "lrc = LogisticRegression()\n",
    "classifier_scores(lrc, 2019, 2, 3, 2000)"
   ]
  },
  {
   "cell_type": "markdown",
   "metadata": {},
   "source": [
    "---\n",
    "## Testes"
   ]
  },
  {
   "cell_type": "markdown",
   "metadata": {},
   "source": [
    "### Função para guardar os dados de desempenho\n",
    "Dado a função de métrica de desempenho, modelo e o nome do diretório, realiza a bateria de testes para o ano de 2019 e guarda os resultados no diretório definido."
   ]
  },
  {
   "cell_type": "code",
   "execution_count": 12,
   "metadata": {},
   "outputs": [],
   "source": [
    "def save_scores(scores, model, dirname):\n",
    "    \n",
    "    # criação da pasta para guardar os resultados\n",
    "    if not os.path.exists(dirname):\n",
    "        os.makedirs(dirname)\n",
    "\n",
    "    # ano, meses, número de meses anteriores e número de agrupamentos\n",
    "    year = 2019\n",
    "    months = [1, 2, 3, 4, 5, 6, 7, 8, 9, 10, 11, 12]\n",
    "    n_months = [1, 2, 3, 4, 5, 6, 7, 8, 9, 10, 11, 12]\n",
    "    n_clusters = [500, 1000, 1500, 2000, 2500, 3000, 3500, 4000, 4500, 5000]\n",
    "        \n",
    "    # estruturas de dados para as métricas de desempenho\n",
    "    accuracy_scores = np.zeros((len(months), len(n_clusters), len(n_months)))\n",
    "    f1_scores = np.zeros((len(months), len(n_clusters), len(n_months)))\n",
    "    elapsed_time = np.zeros((len(months), len(n_clusters), len(n_months)))\n",
    "    \n",
    "    # para cada mês, número de agrupamentos e número de meses anteriores:\n",
    "    for x, month in enumerate(months):\n",
    "        for y, n_cluster in enumerate(n_clusters):\n",
    "            for z, n_month in enumerate(n_months):\n",
    "                start = time.time()\n",
    "                # atribuímos as medidas de desempenho à estrutura de dados\n",
    "                accuracy_scores[x][y][z], f1_scores[x][y][z] = scores(model, year, month, n_month, n_cluster)\n",
    "                stop = time.time()\n",
    "                elapsed_time[x][y][z] = stop - start\n",
    "                \n",
    "    # por fim, salvamos os resultados atribuídos na estrutura de dados\n",
    "    np.save('{0}/{1}_accuracy'.format(dirname, year), accuracy_scores)\n",
    "    np.save('{0}/{1}_f1'.format(dirname, year), f1_scores)\n",
    "    np.save('{0}/{1}_time'.format(dirname, year), elapsed_time)"
   ]
  },
  {
   "cell_type": "markdown",
   "metadata": {},
   "source": [
    "### Testes dos Regressores"
   ]
  },
  {
   "cell_type": "markdown",
   "metadata": {},
   "source": [
    "Modelo Base (somente a média)"
   ]
  },
  {
   "cell_type": "code",
   "execution_count": 13,
   "metadata": {},
   "outputs": [],
   "source": [
    "dr = DummyRegressor(strategy='mean')\n",
    "save_scores(regressor_scores, dr, 'score_clusters_dr')"
   ]
  },
  {
   "cell_type": "markdown",
   "metadata": {},
   "source": [
    "Regressão Linear"
   ]
  },
  {
   "cell_type": "code",
   "execution_count": 14,
   "metadata": {},
   "outputs": [],
   "source": [
    "lr = LinearRegression(n_jobs=-1)\n",
    "save_scores(regressor_scores, lr, 'score_clusters_lr')"
   ]
  },
  {
   "cell_type": "markdown",
   "metadata": {},
   "source": [
    "Regressão com *Random Forest*"
   ]
  },
  {
   "cell_type": "code",
   "execution_count": 15,
   "metadata": {},
   "outputs": [],
   "source": [
    "rfr = RandomForestRegressor(n_estimators=3, n_jobs=-1)\n",
    "save_scores(regressor_scores, rfr, 'score_clusters_rfr')"
   ]
  },
  {
   "cell_type": "markdown",
   "metadata": {},
   "source": [
    "Regressão com *Perceptron* de Múltiplas Camadas"
   ]
  },
  {
   "cell_type": "code",
   "execution_count": 16,
   "metadata": {},
   "outputs": [],
   "source": [
    "mlpr = MLPRegressor(hidden_layer_sizes=(3,), early_stopping=True, max_iter=100000)\n",
    "save_scores(regressor_scores, mlpr, 'score_clusters_mlpr')"
   ]
  },
  {
   "cell_type": "markdown",
   "metadata": {},
   "source": [
    "### Testes dos Classificadores"
   ]
  },
  {
   "cell_type": "markdown",
   "metadata": {},
   "source": [
    "Modelo Base (classe de maior frequência)"
   ]
  },
  {
   "cell_type": "code",
   "execution_count": 17,
   "metadata": {},
   "outputs": [],
   "source": [
    "dc = DummyClassifier(strategy='prior')\n",
    "save_scores(classifier_scores, dc, 'score_clusters_dc')"
   ]
  },
  {
   "cell_type": "markdown",
   "metadata": {},
   "source": [
    "Regressão Logística"
   ]
  },
  {
   "cell_type": "code",
   "execution_count": 18,
   "metadata": {},
   "outputs": [],
   "source": [
    "lrc = LogisticRegression(n_jobs=-1)\n",
    "save_scores(classifier_scores, lrc, 'score_clusters_lrc')"
   ]
  },
  {
   "cell_type": "markdown",
   "metadata": {},
   "source": [
    "Classificador com *Random Forest*"
   ]
  },
  {
   "cell_type": "code",
   "execution_count": 19,
   "metadata": {},
   "outputs": [],
   "source": [
    "rfc = RandomForestClassifier(n_estimators=3, n_jobs=-1)\n",
    "save_scores(classifier_scores, rfc, 'score_clusters_rfc')"
   ]
  },
  {
   "cell_type": "markdown",
   "metadata": {},
   "source": [
    "Classificador com *Perceptron* de Múltiplas Camadas"
   ]
  },
  {
   "cell_type": "code",
   "execution_count": 20,
   "metadata": {},
   "outputs": [],
   "source": [
    "mlpc = MLPClassifier(hidden_layer_sizes=(3,), early_stopping=True, max_iter=100000)\n",
    "save_scores(classifier_scores, mlpc, 'score_clusters_mlpc')"
   ]
  }
 ],
 "metadata": {
  "kernelspec": {
   "display_name": "Python 3",
   "language": "python",
   "name": "python3"
  },
  "language_info": {
   "codemirror_mode": {
    "name": "ipython",
    "version": 3
   },
   "file_extension": ".py",
   "mimetype": "text/x-python",
   "name": "python",
   "nbconvert_exporter": "python",
   "pygments_lexer": "ipython3",
   "version": "3.8.6"
  }
 },
 "nbformat": 4,
 "nbformat_minor": 4
}
