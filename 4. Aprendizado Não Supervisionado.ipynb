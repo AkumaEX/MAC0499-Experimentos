{
 "cells": [
  {
   "cell_type": "markdown",
   "metadata": {},
   "source": [
    "# Aprendizado Não Supervisionado"
   ]
  },
  {
   "cell_type": "markdown",
   "metadata": {},
   "source": [
    "Bibliotecas necessárias"
   ]
  },
  {
   "cell_type": "code",
   "execution_count": 1,
   "metadata": {},
   "outputs": [],
   "source": [
    "import pandas as pd\n",
    "from sklearn.cluster import MiniBatchKMeans\n",
    "import os\n",
    "import numpy as np\n",
    "import matplotlib.pyplot as plt"
   ]
  },
  {
   "cell_type": "markdown",
   "metadata": {},
   "source": [
    "---\n",
    "## Funções auxiliares"
   ]
  },
  {
   "cell_type": "markdown",
   "metadata": {},
   "source": [
    "### Função para obter a data anterior\n",
    "Dado o ano, mês e o número de meses anteriores, retorna uma tupla (ano, mês) anterior ao número de meses."
   ]
  },
  {
   "cell_type": "code",
   "execution_count": 2,
   "metadata": {},
   "outputs": [],
   "source": [
    "def get_previous_date(year, month, n_months):\n",
    "    years = n_months // 12\n",
    "    n_months = n_months % 12\n",
    "    year_result = year-years if month-n_months > 0 else year-(years+1)\n",
    "    month_result = month-n_months if month-n_months > 0 else 12 if month-n_months == 0 else (month-n_months)%12\n",
    "    return year_result, month_result"
   ]
  },
  {
   "cell_type": "markdown",
   "metadata": {},
   "source": [
    "**Exemplo:** 3 meses anteriores a Fevereiro de 2019 é Novembro de 2018"
   ]
  },
  {
   "cell_type": "code",
   "execution_count": 3,
   "metadata": {},
   "outputs": [
    {
     "data": {
      "text/plain": [
       "(2018, 11)"
      ]
     },
     "execution_count": 3,
     "metadata": {},
     "output_type": "execute_result"
    }
   ],
   "source": [
    "get_previous_date(2019, 2, 3)"
   ]
  },
  {
   "cell_type": "markdown",
   "metadata": {},
   "source": [
    "### Função para obter o caminho dos arquivos\n",
    "Dado o ano, mês e o número de meses anteriores, retorna uma lista de caminhos dos arquivos dos meses anteriores."
   ]
  },
  {
   "cell_type": "code",
   "execution_count": 4,
   "metadata": {},
   "outputs": [],
   "source": [
    "def get_filepaths(year, month, n_months):\n",
    "    filenames = []\n",
    "    for n in range(n_months, -1, -1):\n",
    "        y, m = get_previous_date(year, month, n)\n",
    "        filenames.append('data/DadosBO_{0}_{1}(ROUBO DE CELULAR).xls'.format(y, m))\n",
    "    return filenames"
   ]
  },
  {
   "cell_type": "markdown",
   "metadata": {},
   "source": [
    "**Exemplo:** 3 meses anteriores a Fevereiro de 2019 deve retornar uma lista com os caminhos dos arquivos de:\n",
    "* Novembro de 2018\n",
    "* Dezembro de 2018\n",
    "* Janeiro de 2019\n",
    "* Fevereiro de 2019"
   ]
  },
  {
   "cell_type": "code",
   "execution_count": 5,
   "metadata": {},
   "outputs": [
    {
     "data": {
      "text/plain": [
       "['data/DadosBO_2018_11(ROUBO DE CELULAR).xls',\n",
       " 'data/DadosBO_2018_12(ROUBO DE CELULAR).xls',\n",
       " 'data/DadosBO_2019_1(ROUBO DE CELULAR).xls',\n",
       " 'data/DadosBO_2019_2(ROUBO DE CELULAR).xls']"
      ]
     },
     "execution_count": 5,
     "metadata": {},
     "output_type": "execute_result"
    }
   ],
   "source": [
    "get_filepaths(2019, 2, 3)"
   ]
  },
  {
   "cell_type": "markdown",
   "metadata": {},
   "source": [
    "### Função para carregar o *DataFrame*\n",
    "Dado o caminho do arquivo e uma ordem para o mês (1o.mês, 2o.mês, etc), retorna um *DataFrame* com as colunas **Data da Ocorrência**, **Hora da Ocorrência**, **Bairro**, **Cidade**, **Latitude**, **Longitude** e a **Ordem do Mês**."
   ]
  },
  {
   "cell_type": "code",
   "execution_count": 6,
   "metadata": {},
   "outputs": [],
   "source": [
    "def load_dataframe(filepath, month):\n",
    "    cols = ['DATAOCORRENCIA', 'HORAOCORRENCIA', 'BAIRRO', 'CIDADE', 'LATITUDE', 'LONGITUDE']\n",
    "    df = pd.read_csv(\n",
    "        filepath_or_buffer=filepath,\n",
    "        encoding='utf-16 le',\n",
    "        delimiter='\\t',\n",
    "        decimal=',',\n",
    "        dayfirst=True,\n",
    "        usecols=cols\n",
    "    )\n",
    "    df['MES'] = month\n",
    "    return df"
   ]
  },
  {
   "cell_type": "markdown",
   "metadata": {},
   "source": [
    "**Exemplo:** Carregando os dados de Fevereiro de 2019, definindo a ordem deste *DataFrame* como o primeiro:"
   ]
  },
  {
   "cell_type": "code",
   "execution_count": 7,
   "metadata": {},
   "outputs": [
    {
     "data": {
      "text/html": [
       "<div>\n",
       "<style scoped>\n",
       "    .dataframe tbody tr th:only-of-type {\n",
       "        vertical-align: middle;\n",
       "    }\n",
       "\n",
       "    .dataframe tbody tr th {\n",
       "        vertical-align: top;\n",
       "    }\n",
       "\n",
       "    .dataframe thead th {\n",
       "        text-align: right;\n",
       "    }\n",
       "</style>\n",
       "<table border=\"1\" class=\"dataframe\">\n",
       "  <thead>\n",
       "    <tr style=\"text-align: right;\">\n",
       "      <th></th>\n",
       "      <th>DATAOCORRENCIA</th>\n",
       "      <th>HORAOCORRENCIA</th>\n",
       "      <th>BAIRRO</th>\n",
       "      <th>CIDADE</th>\n",
       "      <th>LATITUDE</th>\n",
       "      <th>LONGITUDE</th>\n",
       "      <th>MES</th>\n",
       "    </tr>\n",
       "  </thead>\n",
       "  <tbody>\n",
       "    <tr>\n",
       "      <th>0</th>\n",
       "      <td>31/01/2019</td>\n",
       "      <td>19:00</td>\n",
       "      <td>ITAIM PAULISTA</td>\n",
       "      <td>S.PAULO</td>\n",
       "      <td>-23.510144</td>\n",
       "      <td>-46.397749</td>\n",
       "      <td>1</td>\n",
       "    </tr>\n",
       "    <tr>\n",
       "      <th>1</th>\n",
       "      <td>31/01/2019</td>\n",
       "      <td>21:45</td>\n",
       "      <td>VALO VELHO</td>\n",
       "      <td>ITAPECERICA DA SERRA</td>\n",
       "      <td>-23.689874</td>\n",
       "      <td>-46.800888</td>\n",
       "      <td>1</td>\n",
       "    </tr>\n",
       "    <tr>\n",
       "      <th>2</th>\n",
       "      <td>31/01/2019</td>\n",
       "      <td>16:20</td>\n",
       "      <td>CAETETUBA</td>\n",
       "      <td>ATIBAIA</td>\n",
       "      <td>-23.114819</td>\n",
       "      <td>-46.586959</td>\n",
       "      <td>1</td>\n",
       "    </tr>\n",
       "    <tr>\n",
       "      <th>3</th>\n",
       "      <td>31/01/2019</td>\n",
       "      <td>16:20</td>\n",
       "      <td>CAETETUBA</td>\n",
       "      <td>ATIBAIA</td>\n",
       "      <td>-23.114819</td>\n",
       "      <td>-46.586959</td>\n",
       "      <td>1</td>\n",
       "    </tr>\n",
       "    <tr>\n",
       "      <th>4</th>\n",
       "      <td>28/01/2019</td>\n",
       "      <td>04:30</td>\n",
       "      <td>ITAIM PAULISTA</td>\n",
       "      <td>S.PAULO</td>\n",
       "      <td>-23.497685</td>\n",
       "      <td>-46.393311</td>\n",
       "      <td>1</td>\n",
       "    </tr>\n",
       "    <tr>\n",
       "      <th>...</th>\n",
       "      <td>...</td>\n",
       "      <td>...</td>\n",
       "      <td>...</td>\n",
       "      <td>...</td>\n",
       "      <td>...</td>\n",
       "      <td>...</td>\n",
       "      <td>...</td>\n",
       "    </tr>\n",
       "    <tr>\n",
       "      <th>20811</th>\n",
       "      <td>28/02/2019</td>\n",
       "      <td>20:00</td>\n",
       "      <td>JAGUARE</td>\n",
       "      <td>S.PAULO</td>\n",
       "      <td>-23.548775</td>\n",
       "      <td>-46.732606</td>\n",
       "      <td>1</td>\n",
       "    </tr>\n",
       "    <tr>\n",
       "      <th>20812</th>\n",
       "      <td>28/02/2019</td>\n",
       "      <td>20:00</td>\n",
       "      <td>JAGUARE</td>\n",
       "      <td>S.PAULO</td>\n",
       "      <td>-23.548775</td>\n",
       "      <td>-46.732606</td>\n",
       "      <td>1</td>\n",
       "    </tr>\n",
       "    <tr>\n",
       "      <th>20813</th>\n",
       "      <td>28/02/2019</td>\n",
       "      <td>20:00</td>\n",
       "      <td>JAGUARE</td>\n",
       "      <td>S.PAULO</td>\n",
       "      <td>-23.548775</td>\n",
       "      <td>-46.732606</td>\n",
       "      <td>1</td>\n",
       "    </tr>\n",
       "    <tr>\n",
       "      <th>20814</th>\n",
       "      <td>28/02/2019</td>\n",
       "      <td>20:00</td>\n",
       "      <td>JAGUARE</td>\n",
       "      <td>S.PAULO</td>\n",
       "      <td>-23.548775</td>\n",
       "      <td>-46.732606</td>\n",
       "      <td>1</td>\n",
       "    </tr>\n",
       "    <tr>\n",
       "      <th>20815</th>\n",
       "      <td>26/02/2019</td>\n",
       "      <td>19:30</td>\n",
       "      <td>PAULICÉIA</td>\n",
       "      <td>S.BERNARDO DO CAMPO</td>\n",
       "      <td>-23.664649</td>\n",
       "      <td>-46.593283</td>\n",
       "      <td>1</td>\n",
       "    </tr>\n",
       "  </tbody>\n",
       "</table>\n",
       "<p>20816 rows × 7 columns</p>\n",
       "</div>"
      ],
      "text/plain": [
       "      DATAOCORRENCIA HORAOCORRENCIA          BAIRRO                CIDADE  \\\n",
       "0         31/01/2019          19:00  ITAIM PAULISTA               S.PAULO   \n",
       "1         31/01/2019          21:45      VALO VELHO  ITAPECERICA DA SERRA   \n",
       "2         31/01/2019          16:20       CAETETUBA               ATIBAIA   \n",
       "3         31/01/2019          16:20       CAETETUBA               ATIBAIA   \n",
       "4         28/01/2019          04:30  ITAIM PAULISTA               S.PAULO   \n",
       "...              ...            ...             ...                   ...   \n",
       "20811     28/02/2019          20:00         JAGUARE               S.PAULO   \n",
       "20812     28/02/2019          20:00         JAGUARE               S.PAULO   \n",
       "20813     28/02/2019          20:00         JAGUARE               S.PAULO   \n",
       "20814     28/02/2019          20:00         JAGUARE               S.PAULO   \n",
       "20815     26/02/2019          19:30       PAULICÉIA   S.BERNARDO DO CAMPO   \n",
       "\n",
       "        LATITUDE  LONGITUDE  MES  \n",
       "0     -23.510144 -46.397749    1  \n",
       "1     -23.689874 -46.800888    1  \n",
       "2     -23.114819 -46.586959    1  \n",
       "3     -23.114819 -46.586959    1  \n",
       "4     -23.497685 -46.393311    1  \n",
       "...          ...        ...  ...  \n",
       "20811 -23.548775 -46.732606    1  \n",
       "20812 -23.548775 -46.732606    1  \n",
       "20813 -23.548775 -46.732606    1  \n",
       "20814 -23.548775 -46.732606    1  \n",
       "20815 -23.664649 -46.593283    1  \n",
       "\n",
       "[20816 rows x 7 columns]"
      ]
     },
     "execution_count": 7,
     "metadata": {},
     "output_type": "execute_result"
    }
   ],
   "source": [
    "load_dataframe('data/DadosBO_2019_2(ROUBO DE CELULAR).xls', 1)"
   ]
  },
  {
   "cell_type": "markdown",
   "metadata": {},
   "source": [
    "### Função para carregar e concatenar vários *DataFrames*\n",
    "Dado o ano, mês e o número de meses anteriores, retorna um *DataFrame* com os dados dos meses anteriores e o atual, em ordem cronológica"
   ]
  },
  {
   "cell_type": "code",
   "execution_count": 8,
   "metadata": {},
   "outputs": [],
   "source": [
    "def load_dataframes(year, month, n_months):\n",
    "    filepaths = get_filepaths(year, month, n_months)\n",
    "    return pd.concat([load_dataframe(filepath, idx + 1) for idx, filepath in enumerate(filepaths)])"
   ]
  },
  {
   "cell_type": "markdown",
   "metadata": {},
   "source": [
    "**Exemplo:** 3 meses anteriores a Fevereiro de 2019 retorna um *DataFrame* com os dados de:\n",
    "* Novembro de 2018 como o primeiro mês\n",
    "* Dezembro de 2018 como o segundo mês\n",
    "* Janeiro de 2019 como o terceiro mês\n",
    "* Fevereiro de 2019 como o quarto mês"
   ]
  },
  {
   "cell_type": "code",
   "execution_count": 9,
   "metadata": {},
   "outputs": [
    {
     "data": {
      "text/html": [
       "<div>\n",
       "<style scoped>\n",
       "    .dataframe tbody tr th:only-of-type {\n",
       "        vertical-align: middle;\n",
       "    }\n",
       "\n",
       "    .dataframe tbody tr th {\n",
       "        vertical-align: top;\n",
       "    }\n",
       "\n",
       "    .dataframe thead th {\n",
       "        text-align: right;\n",
       "    }\n",
       "</style>\n",
       "<table border=\"1\" class=\"dataframe\">\n",
       "  <thead>\n",
       "    <tr style=\"text-align: right;\">\n",
       "      <th></th>\n",
       "      <th>DATAOCORRENCIA</th>\n",
       "      <th>HORAOCORRENCIA</th>\n",
       "      <th>BAIRRO</th>\n",
       "      <th>CIDADE</th>\n",
       "      <th>LATITUDE</th>\n",
       "      <th>LONGITUDE</th>\n",
       "      <th>MES</th>\n",
       "    </tr>\n",
       "  </thead>\n",
       "  <tbody>\n",
       "    <tr>\n",
       "      <th>0</th>\n",
       "      <td>31/10/2018</td>\n",
       "      <td>06:25</td>\n",
       "      <td>NaN</td>\n",
       "      <td>S.PAULO</td>\n",
       "      <td>NaN</td>\n",
       "      <td>NaN</td>\n",
       "      <td>1</td>\n",
       "    </tr>\n",
       "    <tr>\n",
       "      <th>1</th>\n",
       "      <td>31/10/2018</td>\n",
       "      <td>21:30</td>\n",
       "      <td>JD IRMÃOS SIGRIST</td>\n",
       "      <td>CAMPINAS</td>\n",
       "      <td>-23.003776</td>\n",
       "      <td>-47.106153</td>\n",
       "      <td>1</td>\n",
       "    </tr>\n",
       "    <tr>\n",
       "      <th>2</th>\n",
       "      <td>31/10/2018</td>\n",
       "      <td>20:30</td>\n",
       "      <td>NOVA BAETA</td>\n",
       "      <td>S.BERNARDO DO CAMPO</td>\n",
       "      <td>NaN</td>\n",
       "      <td>NaN</td>\n",
       "      <td>1</td>\n",
       "    </tr>\n",
       "    <tr>\n",
       "      <th>3</th>\n",
       "      <td>31/10/2018</td>\n",
       "      <td>20:30</td>\n",
       "      <td>NaN</td>\n",
       "      <td>PRAIA GRANDE</td>\n",
       "      <td>-24.042856</td>\n",
       "      <td>-46.507023</td>\n",
       "      <td>1</td>\n",
       "    </tr>\n",
       "    <tr>\n",
       "      <th>4</th>\n",
       "      <td>31/10/2018</td>\n",
       "      <td>21:00</td>\n",
       "      <td>JD ARARUAMA</td>\n",
       "      <td>COTIA</td>\n",
       "      <td>-23.609402</td>\n",
       "      <td>-46.929926</td>\n",
       "      <td>1</td>\n",
       "    </tr>\n",
       "    <tr>\n",
       "      <th>...</th>\n",
       "      <td>...</td>\n",
       "      <td>...</td>\n",
       "      <td>...</td>\n",
       "      <td>...</td>\n",
       "      <td>...</td>\n",
       "      <td>...</td>\n",
       "      <td>...</td>\n",
       "    </tr>\n",
       "    <tr>\n",
       "      <th>20811</th>\n",
       "      <td>28/02/2019</td>\n",
       "      <td>20:00</td>\n",
       "      <td>JAGUARE</td>\n",
       "      <td>S.PAULO</td>\n",
       "      <td>-23.548775</td>\n",
       "      <td>-46.732606</td>\n",
       "      <td>4</td>\n",
       "    </tr>\n",
       "    <tr>\n",
       "      <th>20812</th>\n",
       "      <td>28/02/2019</td>\n",
       "      <td>20:00</td>\n",
       "      <td>JAGUARE</td>\n",
       "      <td>S.PAULO</td>\n",
       "      <td>-23.548775</td>\n",
       "      <td>-46.732606</td>\n",
       "      <td>4</td>\n",
       "    </tr>\n",
       "    <tr>\n",
       "      <th>20813</th>\n",
       "      <td>28/02/2019</td>\n",
       "      <td>20:00</td>\n",
       "      <td>JAGUARE</td>\n",
       "      <td>S.PAULO</td>\n",
       "      <td>-23.548775</td>\n",
       "      <td>-46.732606</td>\n",
       "      <td>4</td>\n",
       "    </tr>\n",
       "    <tr>\n",
       "      <th>20814</th>\n",
       "      <td>28/02/2019</td>\n",
       "      <td>20:00</td>\n",
       "      <td>JAGUARE</td>\n",
       "      <td>S.PAULO</td>\n",
       "      <td>-23.548775</td>\n",
       "      <td>-46.732606</td>\n",
       "      <td>4</td>\n",
       "    </tr>\n",
       "    <tr>\n",
       "      <th>20815</th>\n",
       "      <td>26/02/2019</td>\n",
       "      <td>19:30</td>\n",
       "      <td>PAULICÉIA</td>\n",
       "      <td>S.BERNARDO DO CAMPO</td>\n",
       "      <td>-23.664649</td>\n",
       "      <td>-46.593283</td>\n",
       "      <td>4</td>\n",
       "    </tr>\n",
       "  </tbody>\n",
       "</table>\n",
       "<p>88788 rows × 7 columns</p>\n",
       "</div>"
      ],
      "text/plain": [
       "      DATAOCORRENCIA HORAOCORRENCIA             BAIRRO               CIDADE  \\\n",
       "0         31/10/2018          06:25                NaN              S.PAULO   \n",
       "1         31/10/2018          21:30  JD IRMÃOS SIGRIST             CAMPINAS   \n",
       "2         31/10/2018          20:30         NOVA BAETA  S.BERNARDO DO CAMPO   \n",
       "3         31/10/2018          20:30                NaN         PRAIA GRANDE   \n",
       "4         31/10/2018          21:00        JD ARARUAMA                COTIA   \n",
       "...              ...            ...                ...                  ...   \n",
       "20811     28/02/2019          20:00            JAGUARE              S.PAULO   \n",
       "20812     28/02/2019          20:00            JAGUARE              S.PAULO   \n",
       "20813     28/02/2019          20:00            JAGUARE              S.PAULO   \n",
       "20814     28/02/2019          20:00            JAGUARE              S.PAULO   \n",
       "20815     26/02/2019          19:30          PAULICÉIA  S.BERNARDO DO CAMPO   \n",
       "\n",
       "        LATITUDE  LONGITUDE  MES  \n",
       "0            NaN        NaN    1  \n",
       "1     -23.003776 -47.106153    1  \n",
       "2            NaN        NaN    1  \n",
       "3     -24.042856 -46.507023    1  \n",
       "4     -23.609402 -46.929926    1  \n",
       "...          ...        ...  ...  \n",
       "20811 -23.548775 -46.732606    4  \n",
       "20812 -23.548775 -46.732606    4  \n",
       "20813 -23.548775 -46.732606    4  \n",
       "20814 -23.548775 -46.732606    4  \n",
       "20815 -23.664649 -46.593283    4  \n",
       "\n",
       "[88788 rows x 7 columns]"
      ]
     },
     "execution_count": 9,
     "metadata": {},
     "output_type": "execute_result"
    }
   ],
   "source": [
    "load_dataframes(2019, 2, 3)"
   ]
  },
  {
   "cell_type": "markdown",
   "metadata": {},
   "source": [
    "### Função para limpar o *DataFrame*\n",
    "Dado o *DataFrame*, retorna o *DataFrame* sem entradas duplicadas ou com valores nulos"
   ]
  },
  {
   "cell_type": "code",
   "execution_count": 10,
   "metadata": {},
   "outputs": [],
   "source": [
    "def clear_dataframe(df):\n",
    "    df.drop_duplicates(inplace=True)\n",
    "    df['LATITUDE'] = pd.to_numeric(df['LATITUDE'], errors='coerce')\n",
    "    df['LONGITUDE'] = pd.to_numeric(df['LONGITUDE'], errors='coerce')\n",
    "    df.dropna(inplace=True)\n",
    "    return df"
   ]
  },
  {
   "cell_type": "code",
   "execution_count": 11,
   "metadata": {},
   "outputs": [
    {
     "data": {
      "text/html": [
       "<div>\n",
       "<style scoped>\n",
       "    .dataframe tbody tr th:only-of-type {\n",
       "        vertical-align: middle;\n",
       "    }\n",
       "\n",
       "    .dataframe tbody tr th {\n",
       "        vertical-align: top;\n",
       "    }\n",
       "\n",
       "    .dataframe thead th {\n",
       "        text-align: right;\n",
       "    }\n",
       "</style>\n",
       "<table border=\"1\" class=\"dataframe\">\n",
       "  <thead>\n",
       "    <tr style=\"text-align: right;\">\n",
       "      <th></th>\n",
       "      <th>DATAOCORRENCIA</th>\n",
       "      <th>HORAOCORRENCIA</th>\n",
       "      <th>BAIRRO</th>\n",
       "      <th>CIDADE</th>\n",
       "      <th>LATITUDE</th>\n",
       "      <th>LONGITUDE</th>\n",
       "      <th>MES</th>\n",
       "    </tr>\n",
       "  </thead>\n",
       "  <tbody>\n",
       "    <tr>\n",
       "      <th>1</th>\n",
       "      <td>31/10/2018</td>\n",
       "      <td>21:30</td>\n",
       "      <td>JD IRMÃOS SIGRIST</td>\n",
       "      <td>CAMPINAS</td>\n",
       "      <td>-23.003776</td>\n",
       "      <td>-47.106153</td>\n",
       "      <td>1</td>\n",
       "    </tr>\n",
       "    <tr>\n",
       "      <th>4</th>\n",
       "      <td>31/10/2018</td>\n",
       "      <td>21:00</td>\n",
       "      <td>JD ARARUAMA</td>\n",
       "      <td>COTIA</td>\n",
       "      <td>-23.609402</td>\n",
       "      <td>-46.929926</td>\n",
       "      <td>1</td>\n",
       "    </tr>\n",
       "    <tr>\n",
       "      <th>5</th>\n",
       "      <td>31/10/2018</td>\n",
       "      <td>23:00</td>\n",
       "      <td>SAO LUCAS</td>\n",
       "      <td>S.PAULO</td>\n",
       "      <td>-23.576057</td>\n",
       "      <td>-46.554417</td>\n",
       "      <td>1</td>\n",
       "    </tr>\n",
       "    <tr>\n",
       "      <th>6</th>\n",
       "      <td>31/10/2018</td>\n",
       "      <td>23:00</td>\n",
       "      <td>SAO RAFAEL</td>\n",
       "      <td>S.PAULO</td>\n",
       "      <td>-23.630611</td>\n",
       "      <td>-46.471524</td>\n",
       "      <td>1</td>\n",
       "    </tr>\n",
       "    <tr>\n",
       "      <th>7</th>\n",
       "      <td>31/10/2018</td>\n",
       "      <td>23:40</td>\n",
       "      <td>BRASILANDIA</td>\n",
       "      <td>S.PAULO</td>\n",
       "      <td>-23.457706</td>\n",
       "      <td>-46.690668</td>\n",
       "      <td>1</td>\n",
       "    </tr>\n",
       "    <tr>\n",
       "      <th>...</th>\n",
       "      <td>...</td>\n",
       "      <td>...</td>\n",
       "      <td>...</td>\n",
       "      <td>...</td>\n",
       "      <td>...</td>\n",
       "      <td>...</td>\n",
       "      <td>...</td>\n",
       "    </tr>\n",
       "    <tr>\n",
       "      <th>20807</th>\n",
       "      <td>28/02/2019</td>\n",
       "      <td>20:45</td>\n",
       "      <td>GUAIANASES</td>\n",
       "      <td>S.PAULO</td>\n",
       "      <td>-23.542405</td>\n",
       "      <td>-46.419923</td>\n",
       "      <td>4</td>\n",
       "    </tr>\n",
       "    <tr>\n",
       "      <th>20808</th>\n",
       "      <td>28/02/2019</td>\n",
       "      <td>19:00</td>\n",
       "      <td>SANTO AMARO</td>\n",
       "      <td>S.PAULO</td>\n",
       "      <td>-23.628584</td>\n",
       "      <td>-46.691692</td>\n",
       "      <td>4</td>\n",
       "    </tr>\n",
       "    <tr>\n",
       "      <th>20809</th>\n",
       "      <td>28/02/2019</td>\n",
       "      <td>16:00</td>\n",
       "      <td>VILA SONIA</td>\n",
       "      <td>S.PAULO</td>\n",
       "      <td>-23.595742</td>\n",
       "      <td>-46.740399</td>\n",
       "      <td>4</td>\n",
       "    </tr>\n",
       "    <tr>\n",
       "      <th>20810</th>\n",
       "      <td>28/02/2019</td>\n",
       "      <td>22:40</td>\n",
       "      <td>VILA HELENA II</td>\n",
       "      <td>SUZANO</td>\n",
       "      <td>-23.597856</td>\n",
       "      <td>-46.307167</td>\n",
       "      <td>4</td>\n",
       "    </tr>\n",
       "    <tr>\n",
       "      <th>20811</th>\n",
       "      <td>28/02/2019</td>\n",
       "      <td>20:00</td>\n",
       "      <td>JAGUARE</td>\n",
       "      <td>S.PAULO</td>\n",
       "      <td>-23.548775</td>\n",
       "      <td>-46.732606</td>\n",
       "      <td>4</td>\n",
       "    </tr>\n",
       "  </tbody>\n",
       "</table>\n",
       "<p>56643 rows × 7 columns</p>\n",
       "</div>"
      ],
      "text/plain": [
       "      DATAOCORRENCIA HORAOCORRENCIA             BAIRRO    CIDADE   LATITUDE  \\\n",
       "1         31/10/2018          21:30  JD IRMÃOS SIGRIST  CAMPINAS -23.003776   \n",
       "4         31/10/2018          21:00        JD ARARUAMA     COTIA -23.609402   \n",
       "5         31/10/2018          23:00          SAO LUCAS   S.PAULO -23.576057   \n",
       "6         31/10/2018          23:00         SAO RAFAEL   S.PAULO -23.630611   \n",
       "7         31/10/2018          23:40        BRASILANDIA   S.PAULO -23.457706   \n",
       "...              ...            ...                ...       ...        ...   \n",
       "20807     28/02/2019          20:45         GUAIANASES   S.PAULO -23.542405   \n",
       "20808     28/02/2019          19:00        SANTO AMARO   S.PAULO -23.628584   \n",
       "20809     28/02/2019          16:00         VILA SONIA   S.PAULO -23.595742   \n",
       "20810     28/02/2019          22:40     VILA HELENA II    SUZANO -23.597856   \n",
       "20811     28/02/2019          20:00            JAGUARE   S.PAULO -23.548775   \n",
       "\n",
       "       LONGITUDE  MES  \n",
       "1     -47.106153    1  \n",
       "4     -46.929926    1  \n",
       "5     -46.554417    1  \n",
       "6     -46.471524    1  \n",
       "7     -46.690668    1  \n",
       "...          ...  ...  \n",
       "20807 -46.419923    4  \n",
       "20808 -46.691692    4  \n",
       "20809 -46.740399    4  \n",
       "20810 -46.307167    4  \n",
       "20811 -46.732606    4  \n",
       "\n",
       "[56643 rows x 7 columns]"
      ]
     },
     "execution_count": 11,
     "metadata": {},
     "output_type": "execute_result"
    }
   ],
   "source": [
    "df = load_dataframes(2019, 2, 3)\n",
    "clear_dataframe(df)"
   ]
  },
  {
   "cell_type": "markdown",
   "metadata": {},
   "source": [
    "### Função para obter a posição de inicialização dos *centroids* e o número de agrupamentos\n",
    "Dado o *DataFrame*, a função calcula a posição inicial dos *centroids* a partir da localização geográfica média de todos os eventos ocorridos em cada bairro de cada cidade e retorna uma tupla com as posições iniciais dos *centroids* e o número de agrupamentos."
   ]
  },
  {
   "cell_type": "code",
   "execution_count": 12,
   "metadata": {},
   "outputs": [],
   "source": [
    "def get_init_clusters_info(df):\n",
    "    init_clusters = df[['BAIRRO', 'CIDADE', 'LATITUDE', 'LONGITUDE']].groupby(['CIDADE', 'BAIRRO']).mean().dropna().to_numpy()\n",
    "    n_clusters, _ = init_clusters.shape\n",
    "    return init_clusters, n_clusters"
   ]
  },
  {
   "cell_type": "code",
   "execution_count": 13,
   "metadata": {},
   "outputs": [],
   "source": [
    "df = load_dataframes(2019, 2, 3)\n",
    "df = clear_dataframe(df)\n",
    "init_clusters, n_clusters = get_init_clusters_info(df)"
   ]
  },
  {
   "cell_type": "code",
   "execution_count": 14,
   "metadata": {},
   "outputs": [
    {
     "data": {
      "text/plain": [
       "array([[-23.54442   , -46.6547956 ],\n",
       "       [-23.0976156 , -47.0078479 ],\n",
       "       [-23.6383081 , -46.7929286 ],\n",
       "       ...,\n",
       "       [-20.42796844, -49.97685624],\n",
       "       [-20.42519928, -49.96072917],\n",
       "       [-20.38642429, -49.98031964]])"
      ]
     },
     "execution_count": 14,
     "metadata": {},
     "output_type": "execute_result"
    }
   ],
   "source": [
    "init_clusters"
   ]
  },
  {
   "cell_type": "code",
   "execution_count": 15,
   "metadata": {},
   "outputs": [
    {
     "data": {
      "text/plain": [
       "5962"
      ]
     },
     "execution_count": 15,
     "metadata": {},
     "output_type": "execute_result"
    }
   ],
   "source": [
    "n_clusters"
   ]
  },
  {
   "cell_type": "markdown",
   "metadata": {},
   "source": [
    "### Função para treinar modelo de agrupamento *K-Means*\n",
    "Dado o ano, mês e o número de meses anteriores, carrega *DataFrames* de treino e teste, cria e treina o modelo de agrupamento *K-Means* a partir dos dados de treino e assimila todas as amostras a seus respectivos grupos. Os *DataFrames* com os dados dos grupos são salvos no disco."
   ]
  },
  {
   "cell_type": "code",
   "execution_count": 16,
   "metadata": {},
   "outputs": [],
   "source": [
    "def train_cluster_model(year, month, n_months):\n",
    "    dirname = 'df'\n",
    "    if not os.path.exists(dirname):\n",
    "        os.makedirs(dirname)\n",
    "        \n",
    "    df = load_dataframes(year, month, n_months)\n",
    "    df = clear_dataframe(df)\n",
    "    \n",
    "    train = df['MES'] != n_months+1\n",
    "    df_train = df[train].copy()\n",
    "    df_test = df[~train].copy()\n",
    "    \n",
    "    init_clusters, n_clusters = get_init_clusters_info(df_train)\n",
    "    kmeans = MiniBatchKMeans(init=init_clusters, n_clusters=n_clusters, init_size=n_clusters, max_iter=100000, n_init=1, random_state=42)\n",
    "    \n",
    "    df_train['GRUPO'] = kmeans.fit_predict(df_train[['LATITUDE', 'LONGITUDE']])\n",
    "    df_test['GRUPO'] = kmeans.predict(df_test[['LATITUDE', 'LONGITUDE']])\n",
    "    \n",
    "    df_train.to_pickle('{0}/{1}_{2}_{3}_train.pkl'.format(dirname, year, month, n_months))\n",
    "    df_test.to_pickle('{0}/{1}_{2}_{3}_test.pkl'.format(dirname, year, month, n_months))\n",
    "    return n_clusters"
   ]
  },
  {
   "cell_type": "markdown",
   "metadata": {},
   "source": [
    "---\n",
    "## Treinamento\n",
    "Treinamento do modelo de agrupamentos *K-Means* é realizado:\n",
    "* para cada mês de 2019\n",
    "* de 1 a 12 meses anteriores para treinamento"
   ]
  },
  {
   "cell_type": "code",
   "execution_count": 17,
   "metadata": {},
   "outputs": [],
   "source": [
    "months = [1, 2, 3, 4, 5, 6, 7, 8, 9, 10, 11, 12]\n",
    "n_months = [1, 2, 3, 4, 5, 6, 7, 8, 9, 10, 11, 12]\n",
    "n_clusters = np.zeros((len(months), len(n_months)))\n",
    "\n",
    "for month in months:\n",
    "    for n_month in n_months:\n",
    "            n_clusters[month-1][n_month-1] = train_cluster_model(2019, month, n_month)"
   ]
  },
  {
   "cell_type": "markdown",
   "metadata": {},
   "source": [
    "---\n",
    "### Número médio de agrupamentos"
   ]
  },
  {
   "cell_type": "code",
   "execution_count": 18,
   "metadata": {},
   "outputs": [
    {
     "data": {
      "image/png": "[encoded data removed]",
      "text/plain": [
       "<Figure size 720x360 with 1 Axes>"
      ]
     },
     "metadata": {
      "needs_background": "light"
     },
     "output_type": "display_data"
    }
   ],
   "source": [
    "clusters_mean = np.mean(n_clusters, axis=0, dtype=int)\n",
    "clusters_std = np.std(n_clusters, axis=0)\n",
    "n_months = [1, 2, 3, 4, 5, 6, 7, 8, 9, 10, 11, 12]\n",
    "plt.figure(figsize=(10, 5))\n",
    "plt.bar(x=n_months, height=clusters_mean, yerr=clusters_std)\n",
    "for i, v in enumerate(clusters_mean):\n",
    "    plt.text(n_months[i] - 0.35, 200, str(v), color='white')\n",
    "plt.xticks(n_months)\n",
    "plt.title('Número médio de agrupamentos')\n",
    "plt.xlabel('Número de Meses Anteriores')\n",
    "plt.ylabel('Número de Agrupamentos')\n",
    "plt.savefig('figures/n_clusters.png', dpi=300)\n",
    "plt.show()"
   ]
  }
 ],
 "metadata": {
  "kernelspec": {
   "display_name": "Python 3",
   "language": "python",
   "name": "python3"
  },
  "language_info": {
   "codemirror_mode": {
    "name": "ipython",
    "version": 3
   },
   "file_extension": ".py",
   "mimetype": "text/x-python",
   "name": "python",
   "nbconvert_exporter": "python",
   "pygments_lexer": "ipython3",
   "version": "3.8.6"
  }
 },
 "nbformat": 4,
 "nbformat_minor": 4
}
